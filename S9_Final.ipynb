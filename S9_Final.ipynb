{
  "cells": [
    {
      "cell_type": "markdown",
      "metadata": {
        "id": "aO-7t1Y7-hV4"
      },
      "source": [
        "# Import Libraries"
      ]
    },
    {
      "cell_type": "code",
      "execution_count": 1,
      "metadata": {
        "id": "8kH16rnZ7wt_"
      },
      "outputs": [],
      "source": [
        "from __future__ import print_function\n",
        "import torch\n",
        "import torch.nn as nn\n",
        "import torch.nn.functional as F\n",
        "import torch.optim as optim\n",
        "from torchvision import datasets, transforms\n",
        "import matplotlib.pyplot as plt\n",
        "import albumentations\n",
        "import albumentations.pytorch"
      ]
    },
    {
      "cell_type": "code",
      "source": [
        "#!pip install torchsummary\n",
        "from torchsummary import summary\n",
        "use_cuda = torch.cuda.is_available()\n",
        "device = torch.device(\"cuda\" if use_cuda else \"cpu\")\n",
        "print(device)"
      ],
      "metadata": {
        "id": "3hQwU37XpUzN",
        "colab": {
          "base_uri": "https://localhost:8080/"
        },
        "outputId": "581ccbf2-b168-493d-c6cb-28b9f10d62ba"
      },
      "execution_count": 2,
      "outputs": [
        {
          "output_type": "stream",
          "name": "stdout",
          "text": [
            "cuda\n"
          ]
        }
      ]
    },
    {
      "cell_type": "markdown",
      "metadata": {
        "id": "ky3f_Odl-7um"
      },
      "source": [
        "## Data Transformations\n",
        "\n",
        "We first start with defining our data transformations. We need to think what our data is and how can we augment it to correct represent images which it might not see otherwise.\n"
      ]
    },
    {
      "cell_type": "markdown",
      "metadata": {
        "id": "oQciFYo2B1mO"
      },
      "source": [
        "# Dataset and Creating Train/Test Split"
      ]
    },
    {
      "cell_type": "code",
      "source": [
        "import albumentations as A\n",
        "from albumentations.pytorch import ToTensorV2\n",
        "from torchvision.datasets import CIFAR10\n",
        "import cv2\n",
        "\n",
        "class AlbumentationsTransform:\n",
        "    def __init__(self, augmentations):\n",
        "        self.augmentations = A.Compose(augmentations)\n",
        "\n",
        "    def __call__(self, image):\n",
        "        augmented = self.augmentations(image=np.array(image))\n",
        "        return augmented['image']\n",
        "\n",
        "# Calculate mean of CIFAR-10 dataset\n",
        "cifar10_mean = (0.5, 0.5, 0.5)  # Replace with actual mean if available\n",
        "\n",
        "# Define Albumentations augmentations\n",
        "augmentations = [\n",
        "    A.HorizontalFlip(p=0.5),\n",
        "    A.RandomBrightnessContrast(p=0.2),\n",
        "    A.ShiftScaleRotate(shift_limit=0.1, scale_limit=(0.9, 1.1), rotate_limit=(-7, 7), border_mode=cv2.BORDER_CONSTANT, value=1),\n",
        "    A.CoarseDropout(max_holes=1, max_height=5, max_width=5, min_holes=1, min_height=2, min_width=2, fill_value=cifar10_mean, mask_fill_value=None),\n",
        "    A.Normalize(mean=cifar10_mean, std=(0.5, 0.5, 0.5)),\n",
        "    ToTensorV2()\n",
        "]\n",
        "\n",
        "# Define Albumentations transform\n",
        "albumentations_transform = AlbumentationsTransform(augmentations)\n",
        "\n",
        "# CIFAR-10 dataset and dataloader\n",
        "train = datasets.CIFAR10(root='./data', train=True, transform=None, download=True)\n",
        "test = datasets.CIFAR10(root='./data', train=False, transform=None, download=True)\n",
        "\n",
        "# Apply Albumentations transform to dataset\n",
        "train.transform = albumentations_transform\n",
        "test.transform = albumentations_transform\n"
      ],
      "metadata": {
        "id": "VBLm4PHApY9i",
        "colab": {
          "base_uri": "https://localhost:8080/"
        },
        "outputId": "c8ca2fde-a67c-4e9e-d08b-f49a2352f8c0"
      },
      "execution_count": 3,
      "outputs": [
        {
          "output_type": "stream",
          "name": "stdout",
          "text": [
            "Downloading https://www.cs.toronto.edu/~kriz/cifar-10-python.tar.gz to ./data/cifar-10-python.tar.gz\n"
          ]
        },
        {
          "output_type": "stream",
          "name": "stderr",
          "text": [
            "100%|██████████| 170498071/170498071 [00:03<00:00, 48989066.61it/s]\n"
          ]
        },
        {
          "output_type": "stream",
          "name": "stdout",
          "text": [
            "Extracting ./data/cifar-10-python.tar.gz to ./data\n",
            "Files already downloaded and verified\n"
          ]
        }
      ]
    },
    {
      "cell_type": "markdown",
      "metadata": {
        "id": "qgldp_3-Dn0c"
      },
      "source": [
        "# Dataloader Arguments & Test/Train Dataloaders\n"
      ]
    },
    {
      "cell_type": "code",
      "execution_count": 4,
      "metadata": {
        "id": "C8OLDR79DrHG",
        "colab": {
          "base_uri": "https://localhost:8080/"
        },
        "outputId": "b0c74288-0b4a-4431-8bb7-36992b980b1d"
      },
      "outputs": [
        {
          "output_type": "stream",
          "name": "stdout",
          "text": [
            "CUDA Available? True\n"
          ]
        }
      ],
      "source": [
        "SEED = 1\n",
        "BATCH_SIZE = 32\n",
        "# CUDA?\n",
        "cuda = torch.cuda.is_available()\n",
        "print(\"CUDA Available?\", cuda)\n",
        "\n",
        "# For reproducibility\n",
        "torch.manual_seed(SEED)\n",
        "\n",
        "if cuda:\n",
        "    torch.cuda.manual_seed(SEED)\n",
        "\n",
        "# train dataloader\n",
        "train_loader = torch.utils.data.DataLoader(train, batch_size=BATCH_SIZE, shuffle=True, num_workers=2)\n",
        "\n",
        "# test dataloader\n",
        "test_loader = torch.utils.data.DataLoader(test, batch_size=BATCH_SIZE, shuffle=False, num_workers=2)"
      ]
    },
    {
      "cell_type": "code",
      "source": [
        "print(len(train_loader))\n",
        "print(len(test_loader))"
      ],
      "metadata": {
        "id": "jLQ54BU0ZVZX",
        "colab": {
          "base_uri": "https://localhost:8080/"
        },
        "outputId": "1de705c6-7b50-4453-97b4-61c1908b48fc"
      },
      "execution_count": 5,
      "outputs": [
        {
          "output_type": "stream",
          "name": "stdout",
          "text": [
            "1563\n",
            "313\n"
          ]
        }
      ]
    },
    {
      "cell_type": "code",
      "source": [
        "classes = ('plane', 'car', 'bird', 'cat',\n",
        "           'deer', 'dog', 'frog', 'horse', 'ship', 'truck')"
      ],
      "metadata": {
        "id": "d4TW_GzTT6hJ"
      },
      "execution_count": 6,
      "outputs": []
    },
    {
      "cell_type": "code",
      "source": [
        "import numpy as np\n",
        "dataiter = iter(test_loader)\n",
        "#print(next(dataiter))\n",
        "images, labels = next(iter(test_loader))\n",
        "\n",
        "fig, axes = plt.subplots(4, 4, figsize=(10, 10))\n",
        "for i, ax in enumerate(axes.flat):\n",
        "    ax.imshow(np.transpose(images[i], (1, 2, 0)))\n",
        "    ax.set_title(f'Actual: {classes[labels[i]]}')\n",
        "    ax.axis('off')\n",
        "\n",
        "plt.show()"
      ],
      "metadata": {
        "id": "QmbOJXFUokdg",
        "colab": {
          "base_uri": "https://localhost:8080/",
          "height": 1000
        },
        "outputId": "981dd7bd-8447-47d2-9ba0-51601a8bdab0"
      },
      "execution_count": 8,
      "outputs": [
        {
          "output_type": "stream",
          "name": "stderr",
          "text": [
            "WARNING:matplotlib.image:Clipping input data to the valid range for imshow with RGB data ([0..1] for floats or [0..255] for integers).\n",
            "WARNING:matplotlib.image:Clipping input data to the valid range for imshow with RGB data ([0..1] for floats or [0..255] for integers).\n",
            "WARNING:matplotlib.image:Clipping input data to the valid range for imshow with RGB data ([0..1] for floats or [0..255] for integers).\n",
            "WARNING:matplotlib.image:Clipping input data to the valid range for imshow with RGB data ([0..1] for floats or [0..255] for integers).\n",
            "WARNING:matplotlib.image:Clipping input data to the valid range for imshow with RGB data ([0..1] for floats or [0..255] for integers).\n",
            "WARNING:matplotlib.image:Clipping input data to the valid range for imshow with RGB data ([0..1] for floats or [0..255] for integers).\n",
            "WARNING:matplotlib.image:Clipping input data to the valid range for imshow with RGB data ([0..1] for floats or [0..255] for integers).\n",
            "WARNING:matplotlib.image:Clipping input data to the valid range for imshow with RGB data ([0..1] for floats or [0..255] for integers).\n",
            "WARNING:matplotlib.image:Clipping input data to the valid range for imshow with RGB data ([0..1] for floats or [0..255] for integers).\n",
            "WARNING:matplotlib.image:Clipping input data to the valid range for imshow with RGB data ([0..1] for floats or [0..255] for integers).\n",
            "WARNING:matplotlib.image:Clipping input data to the valid range for imshow with RGB data ([0..1] for floats or [0..255] for integers).\n",
            "WARNING:matplotlib.image:Clipping input data to the valid range for imshow with RGB data ([0..1] for floats or [0..255] for integers).\n",
            "WARNING:matplotlib.image:Clipping input data to the valid range for imshow with RGB data ([0..1] for floats or [0..255] for integers).\n",
            "WARNING:matplotlib.image:Clipping input data to the valid range for imshow with RGB data ([0..1] for floats or [0..255] for integers).\n",
            "WARNING:matplotlib.image:Clipping input data to the valid range for imshow with RGB data ([0..1] for floats or [0..255] for integers).\n",
            "WARNING:matplotlib.image:Clipping input data to the valid range for imshow with RGB data ([0..1] for floats or [0..255] for integers).\n"
          ]
        },
        {
          "output_type": "display_data",
          "data": {
            "text/plain": [
              "<Figure size 1000x1000 with 16 Axes>"
            ],
            "image/png": "[encoded data removed]"
          },
          "metadata": {}
        }
      ]
    },
    {
      "cell_type": "markdown",
      "metadata": {
        "id": "ubQL3H6RJL3h"
      },
      "source": [
        "# The model\n",
        "Let's start with the model we first saw"
      ]
    },
    {
      "cell_type": "code",
      "source": [
        "'''class Net(nn.Module):\n",
        "    def __init__(self):\n",
        "        super(Net, self).__init__()\n",
        "        # Input Block\n",
        "        self.input = nn.Sequential(\n",
        "            nn.Conv2d(in_channels=3, out_channels=32, kernel_size=(3, 3), padding=1, bias=False),\n",
        "            nn.BatchNorm2d(32),\n",
        "            nn.ReLU()\n",
        "        )\n",
        "\n",
        "        # CONVOLUTION BLOCK 1\n",
        "        # Depthwise sperable layer\n",
        "        self.convblock1 = nn.Sequential(\n",
        "            nn.Conv2d(in_channels=32, out_channels=30, kernel_size=(3, 3), padding=0, bias=False),\n",
        "            nn.BatchNorm2d(30),\n",
        "            nn.ReLU(),\n",
        "            nn.Conv2d(in_channels=30, out_channels=30, kernel_size=3, padding=1, groups=3), #### Depthwise convolution\n",
        "            nn.BatchNorm2d(30),\n",
        "            nn.ReLU(),\n",
        "            nn.Conv2d(in_channels=30, out_channels=32, kernel_size=1), ### Pointwise Convolution (using depthwise output) <-- This is called DEPTHWISE-SEPARABLE CONVOLUTION\n",
        "            nn.BatchNorm2d(32),\n",
        "            nn.ReLU()\n",
        "        )\n",
        "\n",
        "        # CONVOLUTION BLOCK 2 - Dialated Convolution\n",
        "        self.convblock2 = nn.Sequential(\n",
        "            nn.Conv2d(in_channels=32, out_channels=64, kernel_size=(3, 3), padding=1, bias=False,dilation=2),\n",
        "            nn.BatchNorm2d(64),\n",
        "            nn.ReLU(),\n",
        "            nn.Conv2d(in_channels=64, out_channels=64, kernel_size=(3, 3), padding=1, bias=False, dilation=2),\n",
        "            nn.BatchNorm2d(64),\n",
        "            nn.ReLU(),\n",
        "            nn.Conv2d(in_channels=64, out_channels=64, kernel_size=(3, 3), padding=1, bias=False, dilation=2),\n",
        "            nn.BatchNorm2d(64),\n",
        "            nn.ReLU()\n",
        "        )\n",
        "\n",
        "        # CONVOLUTION BLOCK 3\n",
        "        self.convblock3 = nn.Sequential(\n",
        "            nn.Conv2d(in_channels=64, out_channels=128, kernel_size=(3, 3), padding=1, bias=False),\n",
        "            nn.BatchNorm2d(128),\n",
        "            nn.ReLU(),\n",
        "            nn.Conv2d(in_channels=128, out_channels=128, kernel_size=(3, 3), padding=1, bias=False),\n",
        "            nn.BatchNorm2d(128),\n",
        "            nn.ReLU(),\n",
        "            nn.Conv2d(in_channels=128, out_channels=128, kernel_size=(3, 3), padding=1, bias=False),\n",
        "            nn.BatchNorm2d(128),\n",
        "            nn.ReLU()\n",
        "        )\n",
        "\n",
        "        # CONVOLUTION BLOCK 4\n",
        "        self.convblock4 = nn.Sequential(\n",
        "            nn.Conv2d(in_channels=128, out_channels=128, kernel_size=(3, 3), padding=1, bias=False),\n",
        "            nn.BatchNorm2d(128),\n",
        "            nn.ReLU(),\n",
        "            nn.Conv2d(in_channels=128, out_channels=256, kernel_size=(3, 3), padding=1, bias=False),\n",
        "            nn.BatchNorm2d(256),\n",
        "            nn.ReLU(),\n",
        "            nn.Conv2d(in_channels=256, out_channels=128, kernel_size=(3, 3), padding=1, bias=False),\n",
        "            nn.BatchNorm2d(128),\n",
        "            nn.ReLU(),\n",
        "        )\n",
        "        self.gap = nn.Sequential(\n",
        "            nn.AvgPool2d(kernel_size=3)\n",
        "        )\n",
        "\n",
        "        self.dropout = nn.Dropout(0.01)\n",
        "\n",
        "        # First fully connected layer\n",
        "        self.fc1 = nn.Linear(128*8*8, 100) # [ [BATCH_SIZE] * [CHANNEL_NUMBER] * [HEIGHT] * [WIDTH].]\n",
        "        self.fc2 = nn.Linear(100, 10) # [ [BATCH_SIZE] * [CHANNEL_NUMBER] * [HEIGHT] * [WIDTH].]\n",
        "\n",
        "    def forward(self, x):\n",
        "        x = self.input(x)\n",
        "        #print('input layer - ',x.shape)\n",
        "        x = self.convblock1(x)\n",
        "        #print('conv1 - ',x.shape)\n",
        "        x = self.convblock2(x)\n",
        "        #print('conv2 - ',x.shape)\n",
        "        x = self.convblock3(x)\n",
        "        #print('conv3 - ',x.shape)\n",
        "        x = self.convblock4(x)\n",
        "        #print('conv4 - ',x.shape)\n",
        "        x = self.gap(x)\n",
        "        #print('Gap - ',x.shape)\n",
        "        #print(x.view(-1, x.shape[-1]))\n",
        "        x = x.view(-1, 128*8*8) #[CHANNEL_NUMBER] * [HEIGHT] * [WIDTH]\n",
        "        #print('Flatten - ', x.view(-1, x.shape[-1]).shape[0])\n",
        "        x = self.fc1(x)\n",
        "        x = self.fc2(x)\n",
        "        #print('Linear - ',x.shape)\n",
        "        return F.log_softmax(x, dim=-1)'''\n"
      ],
      "metadata": {
        "id": "Y3F8R_qIFPav"
      },
      "execution_count": null,
      "outputs": []
    },
    {
      "cell_type": "code",
      "source": [
        "# importing the model from the model.py\n",
        "\n",
        "#import model\n",
        "from model import Net\n",
        "\n",
        "model = Net().to(device)\n",
        "summary(model, input_size=(3, 32, 32))"
      ],
      "metadata": {
        "id": "otO7RWEbzkD5",
        "colab": {
          "base_uri": "https://localhost:8080/"
        },
        "outputId": "f1d5c0ff-94ff-4179-ad50-cae85cfbe75b"
      },
      "execution_count": 9,
      "outputs": [
        {
          "output_type": "stream",
          "name": "stdout",
          "text": [
            "----------------------------------------------------------------\n",
            "        Layer (type)               Output Shape         Param #\n",
            "================================================================\n",
            "            Conv2d-1           [-1, 32, 32, 32]             864\n",
            "       BatchNorm2d-2           [-1, 32, 32, 32]              64\n",
            "              ReLU-3           [-1, 32, 32, 32]               0\n",
            "            Conv2d-4           [-1, 30, 30, 30]           8,640\n",
            "       BatchNorm2d-5           [-1, 30, 30, 30]              60\n",
            "              ReLU-6           [-1, 30, 30, 30]               0\n",
            "            Conv2d-7           [-1, 30, 30, 30]           2,730\n",
            "       BatchNorm2d-8           [-1, 30, 30, 30]              60\n",
            "              ReLU-9           [-1, 30, 30, 30]               0\n",
            "           Conv2d-10           [-1, 32, 30, 30]             992\n",
            "      BatchNorm2d-11           [-1, 32, 30, 30]              64\n",
            "             ReLU-12           [-1, 32, 30, 30]               0\n",
            "           Conv2d-13           [-1, 64, 28, 28]          18,432\n",
            "      BatchNorm2d-14           [-1, 64, 28, 28]             128\n",
            "             ReLU-15           [-1, 64, 28, 28]               0\n",
            "           Conv2d-16           [-1, 64, 26, 26]          36,864\n",
            "      BatchNorm2d-17           [-1, 64, 26, 26]             128\n",
            "             ReLU-18           [-1, 64, 26, 26]               0\n",
            "           Conv2d-19           [-1, 64, 24, 24]          36,864\n",
            "      BatchNorm2d-20           [-1, 64, 24, 24]             128\n",
            "             ReLU-21           [-1, 64, 24, 24]               0\n",
            "           Conv2d-22          [-1, 128, 24, 24]          73,728\n",
            "      BatchNorm2d-23          [-1, 128, 24, 24]             256\n",
            "             ReLU-24          [-1, 128, 24, 24]               0\n",
            "           Conv2d-25          [-1, 128, 24, 24]         147,456\n",
            "      BatchNorm2d-26          [-1, 128, 24, 24]             256\n",
            "             ReLU-27          [-1, 128, 24, 24]               0\n",
            "           Conv2d-28          [-1, 128, 24, 24]         147,456\n",
            "      BatchNorm2d-29          [-1, 128, 24, 24]             256\n",
            "             ReLU-30          [-1, 128, 24, 24]               0\n",
            "           Conv2d-31          [-1, 128, 24, 24]         147,456\n",
            "      BatchNorm2d-32          [-1, 128, 24, 24]             256\n",
            "             ReLU-33          [-1, 128, 24, 24]               0\n",
            "           Conv2d-34          [-1, 256, 24, 24]         294,912\n",
            "      BatchNorm2d-35          [-1, 256, 24, 24]             512\n",
            "             ReLU-36          [-1, 256, 24, 24]               0\n",
            "           Conv2d-37          [-1, 128, 24, 24]         294,912\n",
            "      BatchNorm2d-38          [-1, 128, 24, 24]             256\n",
            "             ReLU-39          [-1, 128, 24, 24]               0\n",
            "        AvgPool2d-40            [-1, 128, 8, 8]               0\n",
            "           Linear-41                  [-1, 100]         819,300\n",
            "           Linear-42                   [-1, 10]           1,010\n",
            "================================================================\n",
            "Total params: 2,034,040\n",
            "Trainable params: 2,034,040\n",
            "Non-trainable params: 0\n",
            "----------------------------------------------------------------\n",
            "Input size (MB): 0.01\n",
            "Forward/backward pass size (MB): 17.50\n",
            "Params size (MB): 7.76\n",
            "Estimated Total Size (MB): 25.27\n",
            "----------------------------------------------------------------\n"
          ]
        }
      ]
    },
    {
      "cell_type": "markdown",
      "metadata": {
        "id": "1__x_SbrL7z3"
      },
      "source": [
        "# Training and Testing"
      ]
    },
    {
      "cell_type": "code",
      "source": [
        "# Function fopr Training the model of the train dataset.\n",
        "from tqdm import tqdm\n",
        "train_losses = []\n",
        "test_losses = []\n",
        "train_acc = []\n",
        "test_acc = []\n",
        "def GetCorrectPredCount(pPrediction, pLabels):\n",
        "  return pPrediction.argmax(dim=1).eq(pLabels).sum().item()\n",
        "\n",
        "\n",
        "def train(model, device, train_loader, optimizer, epoch):\n",
        "    model.train()\n",
        "    pbar = tqdm(train_loader)\n",
        "\n",
        "    train_loss = 0\n",
        "    correct = 0\n",
        "    processed = 0\n",
        "\n",
        "    for batch_idx, (data, target) in enumerate(pbar):\n",
        "        data, target = data.to(device), target.to(device)\n",
        "        optimizer.zero_grad()\n",
        "\n",
        "        # Predict\n",
        "        output = model(data)\n",
        "\n",
        "        # Calculate loss\n",
        "        loss = F.nll_loss(output, target)\n",
        "        train_loss+=loss.item()\n",
        "\n",
        "        # Backpropagation\n",
        "        loss.backward()\n",
        "        optimizer.step()\n",
        "\n",
        "        correct += GetCorrectPredCount(output, target)\n",
        "        processed += len(data)\n",
        "        #pbar.set_description(desc= f'loss={loss.item()} batch_id={batch_idx}')\n",
        "        pbar.set_description(desc= f'Train: Loss={loss.item():0.4f} Batch_id={batch_idx} Accuracy={100*correct/processed:0.2f}')\n",
        "\n",
        "\n",
        "    train_acc.append(100*correct/processed)\n",
        "    train_losses.append(train_loss/len(train_loader))\n",
        "\n",
        "# Testing the trained model on test dataset to the check loss and model accuracy\n",
        "def test(model, device, test_loader):\n",
        "    model.eval()\n",
        "    test_loss = 0\n",
        "    correct = 0\n",
        "    with torch.no_grad():\n",
        "        for data, target in test_loader:\n",
        "            data, target = data.to(device), target.to(device)\n",
        "            output = model(data)\n",
        "            test_loss += F.nll_loss(output, target, reduction='sum').item()  # sum up batch loss\n",
        "            pred = output.argmax(dim=1, keepdim=True)  # get the index of the max log-probability\n",
        "            correct += pred.eq(target.view_as(pred)).sum().item()\n",
        "\n",
        "    test_loss /= len(test_loader.dataset)\n",
        "    test_acc.append(100. * correct / len(test_loader.dataset))\n",
        "    test_losses.append(test_loss)\n",
        "\n",
        "    print('\\nTest set: Average loss: {:.4f}, Accuracy: {}/{} ({:.2f}%)\\n'.format(\n",
        "        test_loss, correct, len(test_loader.dataset),\n",
        "        100. * correct / len(test_loader.dataset)))\n",
        "\n",
        "\n"
      ],
      "metadata": {
        "id": "iK45770Fv-j-"
      },
      "execution_count": 10,
      "outputs": []
    },
    {
      "cell_type": "markdown",
      "metadata": {
        "id": "drokW8wWODKq"
      },
      "source": [
        "# Let's Train and test our model"
      ]
    },
    {
      "cell_type": "code",
      "execution_count": 12,
      "metadata": {
        "id": "xMCFxeAKOB53",
        "colab": {
          "base_uri": "https://localhost:8080/"
        },
        "outputId": "81ba2d48-79db-409d-a0e2-9284d4d0a0a9"
      },
      "outputs": [
        {
          "output_type": "stream",
          "name": "stdout",
          "text": [
            "EPOCH: 1\n"
          ]
        },
        {
          "output_type": "stream",
          "name": "stderr",
          "text": [
            "Train: Loss=2.0758 Batch_id=1562 Accuracy=31.96: 100%|██████████| 1563/1563 [00:52<00:00, 29.57it/s]\n"
          ]
        },
        {
          "output_type": "stream",
          "name": "stdout",
          "text": [
            "\n",
            "Test set: Average loss: 1.6554, Accuracy: 3902/10000 (39.02%)\n",
            "\n",
            "EPOCH: 2\n"
          ]
        },
        {
          "output_type": "stream",
          "name": "stderr",
          "text": [
            "Train: Loss=1.7510 Batch_id=1562 Accuracy=42.54: 100%|██████████| 1563/1563 [00:51<00:00, 30.55it/s]\n"
          ]
        },
        {
          "output_type": "stream",
          "name": "stdout",
          "text": [
            "\n",
            "Test set: Average loss: 1.4819, Accuracy: 4653/10000 (46.53%)\n",
            "\n",
            "EPOCH: 3\n"
          ]
        },
        {
          "output_type": "stream",
          "name": "stderr",
          "text": [
            "Train: Loss=1.4436 Batch_id=1562 Accuracy=49.41: 100%|██████████| 1563/1563 [00:50<00:00, 30.73it/s]\n"
          ]
        },
        {
          "output_type": "stream",
          "name": "stdout",
          "text": [
            "\n",
            "Test set: Average loss: 1.3168, Accuracy: 5251/10000 (52.51%)\n",
            "\n",
            "EPOCH: 4\n"
          ]
        },
        {
          "output_type": "stream",
          "name": "stderr",
          "text": [
            "Train: Loss=1.4009 Batch_id=1562 Accuracy=54.17: 100%|██████████| 1563/1563 [00:50<00:00, 30.99it/s]\n"
          ]
        },
        {
          "output_type": "stream",
          "name": "stdout",
          "text": [
            "\n",
            "Test set: Average loss: 1.2677, Accuracy: 5437/10000 (54.37%)\n",
            "\n",
            "EPOCH: 5\n"
          ]
        },
        {
          "output_type": "stream",
          "name": "stderr",
          "text": [
            "Train: Loss=1.3010 Batch_id=1562 Accuracy=57.35: 100%|██████████| 1563/1563 [00:50<00:00, 30.88it/s]\n"
          ]
        },
        {
          "output_type": "stream",
          "name": "stdout",
          "text": [
            "\n",
            "Test set: Average loss: 1.1367, Accuracy: 5938/10000 (59.38%)\n",
            "\n",
            "EPOCH: 6\n"
          ]
        },
        {
          "output_type": "stream",
          "name": "stderr",
          "text": [
            "Train: Loss=1.5121 Batch_id=1562 Accuracy=60.03: 100%|██████████| 1563/1563 [00:50<00:00, 30.93it/s]\n"
          ]
        },
        {
          "output_type": "stream",
          "name": "stdout",
          "text": [
            "\n",
            "Test set: Average loss: 1.1078, Accuracy: 6098/10000 (60.98%)\n",
            "\n",
            "EPOCH: 7\n"
          ]
        },
        {
          "output_type": "stream",
          "name": "stderr",
          "text": [
            "Train: Loss=0.6776 Batch_id=1562 Accuracy=62.16: 100%|██████████| 1563/1563 [00:50<00:00, 31.02it/s]\n"
          ]
        },
        {
          "output_type": "stream",
          "name": "stdout",
          "text": [
            "\n",
            "Test set: Average loss: 1.0786, Accuracy: 6152/10000 (61.52%)\n",
            "\n",
            "EPOCH: 8\n"
          ]
        },
        {
          "output_type": "stream",
          "name": "stderr",
          "text": [
            "Train: Loss=0.7770 Batch_id=1562 Accuracy=63.49: 100%|██████████| 1563/1563 [00:50<00:00, 30.76it/s]\n"
          ]
        },
        {
          "output_type": "stream",
          "name": "stdout",
          "text": [
            "\n",
            "Test set: Average loss: 0.9996, Accuracy: 6439/10000 (64.39%)\n",
            "\n",
            "EPOCH: 9\n"
          ]
        },
        {
          "output_type": "stream",
          "name": "stderr",
          "text": [
            "Train: Loss=0.9788 Batch_id=1562 Accuracy=65.04: 100%|██████████| 1563/1563 [00:50<00:00, 30.66it/s]\n"
          ]
        },
        {
          "output_type": "stream",
          "name": "stdout",
          "text": [
            "\n",
            "Test set: Average loss: 0.9793, Accuracy: 6550/10000 (65.50%)\n",
            "\n",
            "EPOCH: 10\n"
          ]
        },
        {
          "output_type": "stream",
          "name": "stderr",
          "text": [
            "Train: Loss=0.6703 Batch_id=1562 Accuracy=66.25: 100%|██████████| 1563/1563 [00:50<00:00, 30.83it/s]\n"
          ]
        },
        {
          "output_type": "stream",
          "name": "stdout",
          "text": [
            "\n",
            "Test set: Average loss: 0.9485, Accuracy: 6651/10000 (66.51%)\n",
            "\n",
            "EPOCH: 11\n"
          ]
        },
        {
          "output_type": "stream",
          "name": "stderr",
          "text": [
            "Train: Loss=0.9950 Batch_id=1562 Accuracy=66.98: 100%|██████████| 1563/1563 [00:50<00:00, 30.94it/s]\n"
          ]
        },
        {
          "output_type": "stream",
          "name": "stdout",
          "text": [
            "\n",
            "Test set: Average loss: 0.9471, Accuracy: 6623/10000 (66.23%)\n",
            "\n",
            "EPOCH: 12\n"
          ]
        },
        {
          "output_type": "stream",
          "name": "stderr",
          "text": [
            "Train: Loss=0.7106 Batch_id=1562 Accuracy=68.21: 100%|██████████| 1563/1563 [00:50<00:00, 30.68it/s]\n"
          ]
        },
        {
          "output_type": "stream",
          "name": "stdout",
          "text": [
            "\n",
            "Test set: Average loss: 0.9392, Accuracy: 6722/10000 (67.22%)\n",
            "\n",
            "EPOCH: 13\n"
          ]
        },
        {
          "output_type": "stream",
          "name": "stderr",
          "text": [
            "Train: Loss=1.3368 Batch_id=1562 Accuracy=68.50: 100%|██████████| 1563/1563 [00:50<00:00, 30.94it/s]\n"
          ]
        },
        {
          "output_type": "stream",
          "name": "stdout",
          "text": [
            "\n",
            "Test set: Average loss: 0.8851, Accuracy: 6906/10000 (69.06%)\n",
            "\n",
            "EPOCH: 14\n"
          ]
        },
        {
          "output_type": "stream",
          "name": "stderr",
          "text": [
            "Train: Loss=1.2800 Batch_id=1562 Accuracy=69.45: 100%|██████████| 1563/1563 [00:50<00:00, 30.87it/s]\n"
          ]
        },
        {
          "output_type": "stream",
          "name": "stdout",
          "text": [
            "\n",
            "Test set: Average loss: 0.8900, Accuracy: 6870/10000 (68.70%)\n",
            "\n",
            "EPOCH: 15\n"
          ]
        },
        {
          "output_type": "stream",
          "name": "stderr",
          "text": [
            "Train: Loss=0.4044 Batch_id=1562 Accuracy=70.23: 100%|██████████| 1563/1563 [00:50<00:00, 31.01it/s]\n"
          ]
        },
        {
          "output_type": "stream",
          "name": "stdout",
          "text": [
            "\n",
            "Test set: Average loss: 0.8916, Accuracy: 6897/10000 (68.97%)\n",
            "\n",
            "EPOCH: 16\n"
          ]
        },
        {
          "output_type": "stream",
          "name": "stderr",
          "text": [
            "Train: Loss=0.8911 Batch_id=1562 Accuracy=70.86: 100%|██████████| 1563/1563 [00:50<00:00, 30.76it/s]\n"
          ]
        },
        {
          "output_type": "stream",
          "name": "stdout",
          "text": [
            "\n",
            "Test set: Average loss: 0.8396, Accuracy: 7063/10000 (70.63%)\n",
            "\n",
            "EPOCH: 17\n"
          ]
        },
        {
          "output_type": "stream",
          "name": "stderr",
          "text": [
            "Train: Loss=0.4968 Batch_id=1562 Accuracy=71.22: 100%|██████████| 1563/1563 [00:50<00:00, 30.80it/s]\n"
          ]
        },
        {
          "output_type": "stream",
          "name": "stdout",
          "text": [
            "\n",
            "Test set: Average loss: 0.8405, Accuracy: 7119/10000 (71.19%)\n",
            "\n",
            "EPOCH: 18\n"
          ]
        },
        {
          "output_type": "stream",
          "name": "stderr",
          "text": [
            "Train: Loss=0.7160 Batch_id=1562 Accuracy=71.96: 100%|██████████| 1563/1563 [00:50<00:00, 30.91it/s]\n"
          ]
        },
        {
          "output_type": "stream",
          "name": "stdout",
          "text": [
            "\n",
            "Test set: Average loss: 0.8296, Accuracy: 7121/10000 (71.21%)\n",
            "\n",
            "EPOCH: 19\n"
          ]
        },
        {
          "output_type": "stream",
          "name": "stderr",
          "text": [
            "Train: Loss=0.8535 Batch_id=1562 Accuracy=72.40: 100%|██████████| 1563/1563 [00:51<00:00, 30.42it/s]\n"
          ]
        },
        {
          "output_type": "stream",
          "name": "stdout",
          "text": [
            "\n",
            "Test set: Average loss: 0.8157, Accuracy: 7148/10000 (71.48%)\n",
            "\n",
            "EPOCH: 20\n"
          ]
        },
        {
          "output_type": "stream",
          "name": "stderr",
          "text": [
            "Train: Loss=1.0809 Batch_id=1562 Accuracy=73.00: 100%|██████████| 1563/1563 [00:50<00:00, 30.82it/s]\n"
          ]
        },
        {
          "output_type": "stream",
          "name": "stdout",
          "text": [
            "\n",
            "Test set: Average loss: 0.8441, Accuracy: 7070/10000 (70.70%)\n",
            "\n",
            "EPOCH: 21\n"
          ]
        },
        {
          "output_type": "stream",
          "name": "stderr",
          "text": [
            "Train: Loss=0.8519 Batch_id=1562 Accuracy=73.26: 100%|██████████| 1563/1563 [00:50<00:00, 30.82it/s]\n"
          ]
        },
        {
          "output_type": "stream",
          "name": "stdout",
          "text": [
            "\n",
            "Test set: Average loss: 0.8345, Accuracy: 7075/10000 (70.75%)\n",
            "\n",
            "EPOCH: 22\n"
          ]
        },
        {
          "output_type": "stream",
          "name": "stderr",
          "text": [
            "Train: Loss=0.6721 Batch_id=1562 Accuracy=73.68: 100%|██████████| 1563/1563 [00:51<00:00, 30.52it/s]\n"
          ]
        },
        {
          "output_type": "stream",
          "name": "stdout",
          "text": [
            "\n",
            "Test set: Average loss: 0.7808, Accuracy: 7315/10000 (73.15%)\n",
            "\n",
            "EPOCH: 23\n"
          ]
        },
        {
          "output_type": "stream",
          "name": "stderr",
          "text": [
            "Train: Loss=0.9018 Batch_id=1562 Accuracy=74.10: 100%|██████████| 1563/1563 [00:50<00:00, 30.91it/s]\n"
          ]
        },
        {
          "output_type": "stream",
          "name": "stdout",
          "text": [
            "\n",
            "Test set: Average loss: 0.8315, Accuracy: 7161/10000 (71.61%)\n",
            "\n",
            "EPOCH: 24\n"
          ]
        },
        {
          "output_type": "stream",
          "name": "stderr",
          "text": [
            "Train: Loss=1.0453 Batch_id=1562 Accuracy=74.45: 100%|██████████| 1563/1563 [00:50<00:00, 30.93it/s]\n"
          ]
        },
        {
          "output_type": "stream",
          "name": "stdout",
          "text": [
            "\n",
            "Test set: Average loss: 0.8091, Accuracy: 7250/10000 (72.50%)\n",
            "\n",
            "EPOCH: 25\n"
          ]
        },
        {
          "output_type": "stream",
          "name": "stderr",
          "text": [
            "Train: Loss=0.6827 Batch_id=1562 Accuracy=74.91: 100%|██████████| 1563/1563 [00:50<00:00, 30.92it/s]\n"
          ]
        },
        {
          "output_type": "stream",
          "name": "stdout",
          "text": [
            "\n",
            "Test set: Average loss: 0.7813, Accuracy: 7310/10000 (73.10%)\n",
            "\n",
            "EPOCH: 26\n"
          ]
        },
        {
          "output_type": "stream",
          "name": "stderr",
          "text": [
            "Train: Loss=0.5722 Batch_id=1562 Accuracy=75.21: 100%|██████████| 1563/1563 [00:51<00:00, 30.37it/s]\n"
          ]
        },
        {
          "output_type": "stream",
          "name": "stdout",
          "text": [
            "\n",
            "Test set: Average loss: 0.7890, Accuracy: 7289/10000 (72.89%)\n",
            "\n",
            "EPOCH: 27\n"
          ]
        },
        {
          "output_type": "stream",
          "name": "stderr",
          "text": [
            "Train: Loss=0.3595 Batch_id=1562 Accuracy=75.63: 100%|██████████| 1563/1563 [00:50<00:00, 30.83it/s]\n"
          ]
        },
        {
          "output_type": "stream",
          "name": "stdout",
          "text": [
            "\n",
            "Test set: Average loss: 0.7696, Accuracy: 7346/10000 (73.46%)\n",
            "\n",
            "EPOCH: 28\n"
          ]
        },
        {
          "output_type": "stream",
          "name": "stderr",
          "text": [
            "Train: Loss=0.9843 Batch_id=1562 Accuracy=76.02: 100%|██████████| 1563/1563 [00:50<00:00, 30.79it/s]\n"
          ]
        },
        {
          "output_type": "stream",
          "name": "stdout",
          "text": [
            "\n",
            "Test set: Average loss: 0.7356, Accuracy: 7485/10000 (74.85%)\n",
            "\n",
            "EPOCH: 29\n"
          ]
        },
        {
          "output_type": "stream",
          "name": "stderr",
          "text": [
            "Train: Loss=0.1499 Batch_id=1562 Accuracy=76.20: 100%|██████████| 1563/1563 [00:51<00:00, 30.56it/s]\n"
          ]
        },
        {
          "output_type": "stream",
          "name": "stdout",
          "text": [
            "\n",
            "Test set: Average loss: 0.7461, Accuracy: 7435/10000 (74.35%)\n",
            "\n",
            "EPOCH: 30\n"
          ]
        },
        {
          "output_type": "stream",
          "name": "stderr",
          "text": [
            "Train: Loss=0.7687 Batch_id=1562 Accuracy=76.25: 100%|██████████| 1563/1563 [00:50<00:00, 30.74it/s]\n"
          ]
        },
        {
          "output_type": "stream",
          "name": "stdout",
          "text": [
            "\n",
            "Test set: Average loss: 0.7300, Accuracy: 7503/10000 (75.03%)\n",
            "\n",
            "EPOCH: 31\n"
          ]
        },
        {
          "output_type": "stream",
          "name": "stderr",
          "text": [
            "Train: Loss=0.9142 Batch_id=1562 Accuracy=77.00: 100%|██████████| 1563/1563 [00:50<00:00, 30.80it/s]\n"
          ]
        },
        {
          "output_type": "stream",
          "name": "stdout",
          "text": [
            "\n",
            "Test set: Average loss: 0.7796, Accuracy: 7355/10000 (73.55%)\n",
            "\n",
            "EPOCH: 32\n"
          ]
        },
        {
          "output_type": "stream",
          "name": "stderr",
          "text": [
            "Train: Loss=0.6373 Batch_id=1562 Accuracy=77.08: 100%|██████████| 1563/1563 [00:50<00:00, 30.83it/s]\n"
          ]
        },
        {
          "output_type": "stream",
          "name": "stdout",
          "text": [
            "\n",
            "Test set: Average loss: 0.7418, Accuracy: 7449/10000 (74.49%)\n",
            "\n",
            "EPOCH: 33\n"
          ]
        },
        {
          "output_type": "stream",
          "name": "stderr",
          "text": [
            "Train: Loss=0.9354 Batch_id=1562 Accuracy=77.23: 100%|██████████| 1563/1563 [00:51<00:00, 30.63it/s]\n"
          ]
        },
        {
          "output_type": "stream",
          "name": "stdout",
          "text": [
            "\n",
            "Test set: Average loss: 0.7481, Accuracy: 7521/10000 (75.21%)\n",
            "\n",
            "EPOCH: 34\n"
          ]
        },
        {
          "output_type": "stream",
          "name": "stderr",
          "text": [
            "Train: Loss=0.4572 Batch_id=1562 Accuracy=77.58: 100%|██████████| 1563/1563 [00:50<00:00, 30.93it/s]\n"
          ]
        },
        {
          "output_type": "stream",
          "name": "stdout",
          "text": [
            "\n",
            "Test set: Average loss: 0.7264, Accuracy: 7510/10000 (75.10%)\n",
            "\n",
            "EPOCH: 35\n"
          ]
        },
        {
          "output_type": "stream",
          "name": "stderr",
          "text": [
            "Train: Loss=0.5427 Batch_id=1562 Accuracy=77.63: 100%|██████████| 1563/1563 [00:50<00:00, 30.82it/s]\n"
          ]
        },
        {
          "output_type": "stream",
          "name": "stdout",
          "text": [
            "\n",
            "Test set: Average loss: 0.7388, Accuracy: 7497/10000 (74.97%)\n",
            "\n",
            "EPOCH: 36\n"
          ]
        },
        {
          "output_type": "stream",
          "name": "stderr",
          "text": [
            "Train: Loss=0.8777 Batch_id=1562 Accuracy=78.07: 100%|██████████| 1563/1563 [00:51<00:00, 30.47it/s]\n"
          ]
        },
        {
          "output_type": "stream",
          "name": "stdout",
          "text": [
            "\n",
            "Test set: Average loss: 0.7384, Accuracy: 7438/10000 (74.38%)\n",
            "\n",
            "EPOCH: 37\n"
          ]
        },
        {
          "output_type": "stream",
          "name": "stderr",
          "text": [
            "Train: Loss=0.4154 Batch_id=1562 Accuracy=78.36: 100%|██████████| 1563/1563 [00:50<00:00, 30.79it/s]\n"
          ]
        },
        {
          "output_type": "stream",
          "name": "stdout",
          "text": [
            "\n",
            "Test set: Average loss: 0.6916, Accuracy: 7571/10000 (75.71%)\n",
            "\n",
            "EPOCH: 38\n"
          ]
        },
        {
          "output_type": "stream",
          "name": "stderr",
          "text": [
            "Train: Loss=0.5725 Batch_id=1562 Accuracy=78.65: 100%|██████████| 1563/1563 [00:51<00:00, 30.52it/s]\n"
          ]
        },
        {
          "output_type": "stream",
          "name": "stdout",
          "text": [
            "\n",
            "Test set: Average loss: 0.6967, Accuracy: 7603/10000 (76.03%)\n",
            "\n",
            "EPOCH: 39\n"
          ]
        },
        {
          "output_type": "stream",
          "name": "stderr",
          "text": [
            "Train: Loss=0.6216 Batch_id=1562 Accuracy=78.75: 100%|██████████| 1563/1563 [00:51<00:00, 30.51it/s]\n"
          ]
        },
        {
          "output_type": "stream",
          "name": "stdout",
          "text": [
            "\n",
            "Test set: Average loss: 0.7120, Accuracy: 7539/10000 (75.39%)\n",
            "\n",
            "EPOCH: 40\n"
          ]
        },
        {
          "output_type": "stream",
          "name": "stderr",
          "text": [
            "Train: Loss=0.6145 Batch_id=1562 Accuracy=79.01: 100%|██████████| 1563/1563 [00:51<00:00, 30.50it/s]\n"
          ]
        },
        {
          "output_type": "stream",
          "name": "stdout",
          "text": [
            "\n",
            "Test set: Average loss: 0.6910, Accuracy: 7611/10000 (76.11%)\n",
            "\n",
            "EPOCH: 41\n"
          ]
        },
        {
          "output_type": "stream",
          "name": "stderr",
          "text": [
            "Train: Loss=0.6017 Batch_id=1562 Accuracy=78.96: 100%|██████████| 1563/1563 [00:51<00:00, 30.48it/s]\n"
          ]
        },
        {
          "output_type": "stream",
          "name": "stdout",
          "text": [
            "\n",
            "Test set: Average loss: 0.7104, Accuracy: 7635/10000 (76.35%)\n",
            "\n",
            "EPOCH: 42\n"
          ]
        },
        {
          "output_type": "stream",
          "name": "stderr",
          "text": [
            "Train: Loss=0.9989 Batch_id=1562 Accuracy=79.40: 100%|██████████| 1563/1563 [00:51<00:00, 30.49it/s]\n"
          ]
        },
        {
          "output_type": "stream",
          "name": "stdout",
          "text": [
            "\n",
            "Test set: Average loss: 0.7000, Accuracy: 7619/10000 (76.19%)\n",
            "\n",
            "EPOCH: 43\n"
          ]
        },
        {
          "output_type": "stream",
          "name": "stderr",
          "text": [
            "Train: Loss=0.9050 Batch_id=1562 Accuracy=79.45: 100%|██████████| 1563/1563 [00:52<00:00, 30.04it/s]\n"
          ]
        },
        {
          "output_type": "stream",
          "name": "stdout",
          "text": [
            "\n",
            "Test set: Average loss: 0.7119, Accuracy: 7591/10000 (75.91%)\n",
            "\n",
            "EPOCH: 44\n"
          ]
        },
        {
          "output_type": "stream",
          "name": "stderr",
          "text": [
            "Train: Loss=0.9291 Batch_id=1562 Accuracy=79.59: 100%|██████████| 1563/1563 [00:51<00:00, 30.29it/s]\n"
          ]
        },
        {
          "output_type": "stream",
          "name": "stdout",
          "text": [
            "\n",
            "Test set: Average loss: 0.6800, Accuracy: 7693/10000 (76.93%)\n",
            "\n",
            "EPOCH: 45\n"
          ]
        },
        {
          "output_type": "stream",
          "name": "stderr",
          "text": [
            "Train: Loss=0.5328 Batch_id=1562 Accuracy=79.84: 100%|██████████| 1563/1563 [00:51<00:00, 30.41it/s]\n"
          ]
        },
        {
          "output_type": "stream",
          "name": "stdout",
          "text": [
            "\n",
            "Test set: Average loss: 0.7093, Accuracy: 7580/10000 (75.80%)\n",
            "\n",
            "EPOCH: 46\n"
          ]
        },
        {
          "output_type": "stream",
          "name": "stderr",
          "text": [
            "Train: Loss=0.2232 Batch_id=1562 Accuracy=80.00: 100%|██████████| 1563/1563 [00:52<00:00, 29.93it/s]\n"
          ]
        },
        {
          "output_type": "stream",
          "name": "stdout",
          "text": [
            "\n",
            "Test set: Average loss: 0.6668, Accuracy: 7711/10000 (77.11%)\n",
            "\n",
            "EPOCH: 47\n"
          ]
        },
        {
          "output_type": "stream",
          "name": "stderr",
          "text": [
            "Train: Loss=0.9713 Batch_id=1562 Accuracy=80.28: 100%|██████████| 1563/1563 [00:51<00:00, 30.36it/s]\n"
          ]
        },
        {
          "output_type": "stream",
          "name": "stdout",
          "text": [
            "\n",
            "Test set: Average loss: 0.6857, Accuracy: 7679/10000 (76.79%)\n",
            "\n",
            "EPOCH: 48\n"
          ]
        },
        {
          "output_type": "stream",
          "name": "stderr",
          "text": [
            "Train: Loss=0.6617 Batch_id=1562 Accuracy=80.48: 100%|██████████| 1563/1563 [00:51<00:00, 30.07it/s]\n"
          ]
        },
        {
          "output_type": "stream",
          "name": "stdout",
          "text": [
            "\n",
            "Test set: Average loss: 0.6741, Accuracy: 7680/10000 (76.80%)\n",
            "\n",
            "EPOCH: 49\n"
          ]
        },
        {
          "output_type": "stream",
          "name": "stderr",
          "text": [
            "Train: Loss=0.4385 Batch_id=1562 Accuracy=80.51: 100%|██████████| 1563/1563 [00:51<00:00, 30.35it/s]\n"
          ]
        },
        {
          "output_type": "stream",
          "name": "stdout",
          "text": [
            "\n",
            "Test set: Average loss: 0.6887, Accuracy: 7688/10000 (76.88%)\n",
            "\n",
            "EPOCH: 50\n"
          ]
        },
        {
          "output_type": "stream",
          "name": "stderr",
          "text": [
            "Train: Loss=0.4836 Batch_id=1562 Accuracy=80.72: 100%|██████████| 1563/1563 [00:52<00:00, 30.02it/s]\n"
          ]
        },
        {
          "output_type": "stream",
          "name": "stdout",
          "text": [
            "\n",
            "Test set: Average loss: 0.6905, Accuracy: 7723/10000 (77.23%)\n",
            "\n",
            "EPOCH: 51\n"
          ]
        },
        {
          "output_type": "stream",
          "name": "stderr",
          "text": [
            "Train: Loss=0.5671 Batch_id=1562 Accuracy=80.87: 100%|██████████| 1563/1563 [00:51<00:00, 30.34it/s]\n"
          ]
        },
        {
          "output_type": "stream",
          "name": "stdout",
          "text": [
            "\n",
            "Test set: Average loss: 0.6729, Accuracy: 7718/10000 (77.18%)\n",
            "\n",
            "EPOCH: 52\n"
          ]
        },
        {
          "output_type": "stream",
          "name": "stderr",
          "text": [
            "Train: Loss=0.4350 Batch_id=1562 Accuracy=81.16: 100%|██████████| 1563/1563 [00:51<00:00, 30.40it/s]\n"
          ]
        },
        {
          "output_type": "stream",
          "name": "stdout",
          "text": [
            "\n",
            "Test set: Average loss: 0.6744, Accuracy: 7739/10000 (77.39%)\n",
            "\n",
            "EPOCH: 53\n"
          ]
        },
        {
          "output_type": "stream",
          "name": "stderr",
          "text": [
            "Train: Loss=0.5844 Batch_id=1562 Accuracy=81.34: 100%|██████████| 1563/1563 [00:52<00:00, 29.94it/s]\n"
          ]
        },
        {
          "output_type": "stream",
          "name": "stdout",
          "text": [
            "\n",
            "Test set: Average loss: 0.6598, Accuracy: 7760/10000 (77.60%)\n",
            "\n",
            "EPOCH: 54\n"
          ]
        },
        {
          "output_type": "stream",
          "name": "stderr",
          "text": [
            "Train: Loss=1.1930 Batch_id=1562 Accuracy=81.43: 100%|██████████| 1563/1563 [00:51<00:00, 30.42it/s]\n"
          ]
        },
        {
          "output_type": "stream",
          "name": "stdout",
          "text": [
            "\n",
            "Test set: Average loss: 0.6731, Accuracy: 7676/10000 (76.76%)\n",
            "\n",
            "EPOCH: 55\n"
          ]
        },
        {
          "output_type": "stream",
          "name": "stderr",
          "text": [
            "Train: Loss=0.5412 Batch_id=1562 Accuracy=81.57: 100%|██████████| 1563/1563 [00:51<00:00, 30.43it/s]\n"
          ]
        },
        {
          "output_type": "stream",
          "name": "stdout",
          "text": [
            "\n",
            "Test set: Average loss: 0.6872, Accuracy: 7728/10000 (77.28%)\n",
            "\n",
            "EPOCH: 56\n"
          ]
        },
        {
          "output_type": "stream",
          "name": "stderr",
          "text": [
            "Train: Loss=0.4734 Batch_id=1562 Accuracy=81.53: 100%|██████████| 1563/1563 [00:51<00:00, 30.09it/s]\n"
          ]
        },
        {
          "output_type": "stream",
          "name": "stdout",
          "text": [
            "\n",
            "Test set: Average loss: 0.6886, Accuracy: 7716/10000 (77.16%)\n",
            "\n",
            "EPOCH: 57\n"
          ]
        },
        {
          "output_type": "stream",
          "name": "stderr",
          "text": [
            "Train: Loss=0.5698 Batch_id=1562 Accuracy=82.06: 100%|██████████| 1563/1563 [00:51<00:00, 30.28it/s]\n"
          ]
        },
        {
          "output_type": "stream",
          "name": "stdout",
          "text": [
            "\n",
            "Test set: Average loss: 0.6589, Accuracy: 7825/10000 (78.25%)\n",
            "\n",
            "EPOCH: 58\n"
          ]
        },
        {
          "output_type": "stream",
          "name": "stderr",
          "text": [
            "Train: Loss=0.5288 Batch_id=1562 Accuracy=81.84: 100%|██████████| 1563/1563 [00:51<00:00, 30.31it/s]\n"
          ]
        },
        {
          "output_type": "stream",
          "name": "stdout",
          "text": [
            "\n",
            "Test set: Average loss: 0.6711, Accuracy: 7764/10000 (77.64%)\n",
            "\n",
            "EPOCH: 59\n"
          ]
        },
        {
          "output_type": "stream",
          "name": "stderr",
          "text": [
            "Train: Loss=0.2637 Batch_id=1562 Accuracy=82.05: 100%|██████████| 1563/1563 [00:51<00:00, 30.31it/s]\n"
          ]
        },
        {
          "output_type": "stream",
          "name": "stdout",
          "text": [
            "\n",
            "Test set: Average loss: 0.6683, Accuracy: 7716/10000 (77.16%)\n",
            "\n",
            "EPOCH: 60\n"
          ]
        },
        {
          "output_type": "stream",
          "name": "stderr",
          "text": [
            "Train: Loss=0.7980 Batch_id=1562 Accuracy=82.02: 100%|██████████| 1563/1563 [00:52<00:00, 29.95it/s]\n"
          ]
        },
        {
          "output_type": "stream",
          "name": "stdout",
          "text": [
            "\n",
            "Test set: Average loss: 0.6857, Accuracy: 7752/10000 (77.52%)\n",
            "\n",
            "EPOCH: 61\n"
          ]
        },
        {
          "output_type": "stream",
          "name": "stderr",
          "text": [
            "Train: Loss=0.3412 Batch_id=1562 Accuracy=82.14: 100%|██████████| 1563/1563 [00:51<00:00, 30.41it/s]\n"
          ]
        },
        {
          "output_type": "stream",
          "name": "stdout",
          "text": [
            "\n",
            "Test set: Average loss: 0.6905, Accuracy: 7731/10000 (77.31%)\n",
            "\n",
            "EPOCH: 62\n"
          ]
        },
        {
          "output_type": "stream",
          "name": "stderr",
          "text": [
            "Train: Loss=0.5864 Batch_id=1562 Accuracy=82.23: 100%|██████████| 1563/1563 [00:51<00:00, 30.30it/s]\n"
          ]
        },
        {
          "output_type": "stream",
          "name": "stdout",
          "text": [
            "\n",
            "Test set: Average loss: 0.6708, Accuracy: 7807/10000 (78.07%)\n",
            "\n",
            "EPOCH: 63\n"
          ]
        },
        {
          "output_type": "stream",
          "name": "stderr",
          "text": [
            "Train: Loss=0.4054 Batch_id=1562 Accuracy=82.55: 100%|██████████| 1563/1563 [00:51<00:00, 30.09it/s]\n"
          ]
        },
        {
          "output_type": "stream",
          "name": "stdout",
          "text": [
            "\n",
            "Test set: Average loss: 0.6501, Accuracy: 7845/10000 (78.45%)\n",
            "\n",
            "EPOCH: 64\n"
          ]
        },
        {
          "output_type": "stream",
          "name": "stderr",
          "text": [
            "Train: Loss=0.4098 Batch_id=1562 Accuracy=82.50: 100%|██████████| 1563/1563 [00:51<00:00, 30.26it/s]\n"
          ]
        },
        {
          "output_type": "stream",
          "name": "stdout",
          "text": [
            "\n",
            "Test set: Average loss: 0.6576, Accuracy: 7796/10000 (77.96%)\n",
            "\n",
            "EPOCH: 65\n"
          ]
        },
        {
          "output_type": "stream",
          "name": "stderr",
          "text": [
            "Train: Loss=0.7003 Batch_id=1562 Accuracy=82.76: 100%|██████████| 1563/1563 [00:51<00:00, 30.44it/s]\n"
          ]
        },
        {
          "output_type": "stream",
          "name": "stdout",
          "text": [
            "\n",
            "Test set: Average loss: 0.6573, Accuracy: 7857/10000 (78.57%)\n",
            "\n",
            "EPOCH: 66\n"
          ]
        },
        {
          "output_type": "stream",
          "name": "stderr",
          "text": [
            "Train: Loss=0.6895 Batch_id=1562 Accuracy=82.86: 100%|██████████| 1563/1563 [00:51<00:00, 30.35it/s]\n"
          ]
        },
        {
          "output_type": "stream",
          "name": "stdout",
          "text": [
            "\n",
            "Test set: Average loss: 0.6655, Accuracy: 7772/10000 (77.72%)\n",
            "\n",
            "EPOCH: 67\n"
          ]
        },
        {
          "output_type": "stream",
          "name": "stderr",
          "text": [
            "Train: Loss=0.5488 Batch_id=1562 Accuracy=82.98: 100%|██████████| 1563/1563 [00:51<00:00, 30.16it/s]\n"
          ]
        },
        {
          "output_type": "stream",
          "name": "stdout",
          "text": [
            "\n",
            "Test set: Average loss: 0.6599, Accuracy: 7771/10000 (77.71%)\n",
            "\n",
            "EPOCH: 68\n"
          ]
        },
        {
          "output_type": "stream",
          "name": "stderr",
          "text": [
            "Train: Loss=0.2543 Batch_id=1562 Accuracy=83.18: 100%|██████████| 1563/1563 [00:51<00:00, 30.38it/s]\n"
          ]
        },
        {
          "output_type": "stream",
          "name": "stdout",
          "text": [
            "\n",
            "Test set: Average loss: 0.6356, Accuracy: 7861/10000 (78.61%)\n",
            "\n",
            "EPOCH: 69\n"
          ]
        },
        {
          "output_type": "stream",
          "name": "stderr",
          "text": [
            "Train: Loss=0.6855 Batch_id=1562 Accuracy=83.28: 100%|██████████| 1563/1563 [00:51<00:00, 30.43it/s]\n"
          ]
        },
        {
          "output_type": "stream",
          "name": "stdout",
          "text": [
            "\n",
            "Test set: Average loss: 0.6853, Accuracy: 7746/10000 (77.46%)\n",
            "\n",
            "EPOCH: 70\n"
          ]
        },
        {
          "output_type": "stream",
          "name": "stderr",
          "text": [
            "Train: Loss=0.9615 Batch_id=1562 Accuracy=83.36: 100%|██████████| 1563/1563 [00:52<00:00, 30.01it/s]\n"
          ]
        },
        {
          "output_type": "stream",
          "name": "stdout",
          "text": [
            "\n",
            "Test set: Average loss: 0.6360, Accuracy: 7853/10000 (78.53%)\n",
            "\n",
            "EPOCH: 71\n"
          ]
        },
        {
          "output_type": "stream",
          "name": "stderr",
          "text": [
            "Train: Loss=0.9298 Batch_id=1562 Accuracy=83.27: 100%|██████████| 1563/1563 [00:51<00:00, 30.43it/s]\n"
          ]
        },
        {
          "output_type": "stream",
          "name": "stdout",
          "text": [
            "\n",
            "Test set: Average loss: 0.6605, Accuracy: 7835/10000 (78.35%)\n",
            "\n",
            "EPOCH: 72\n"
          ]
        },
        {
          "output_type": "stream",
          "name": "stderr",
          "text": [
            "Train: Loss=0.4211 Batch_id=1562 Accuracy=83.48: 100%|██████████| 1563/1563 [00:51<00:00, 30.29it/s]\n"
          ]
        },
        {
          "output_type": "stream",
          "name": "stdout",
          "text": [
            "\n",
            "Test set: Average loss: 0.6587, Accuracy: 7851/10000 (78.51%)\n",
            "\n",
            "EPOCH: 73\n"
          ]
        },
        {
          "output_type": "stream",
          "name": "stderr",
          "text": [
            "Train: Loss=0.6000 Batch_id=1562 Accuracy=83.60: 100%|██████████| 1563/1563 [00:51<00:00, 30.06it/s]\n"
          ]
        },
        {
          "output_type": "stream",
          "name": "stdout",
          "text": [
            "\n",
            "Test set: Average loss: 0.6444, Accuracy: 7850/10000 (78.50%)\n",
            "\n",
            "EPOCH: 74\n"
          ]
        },
        {
          "output_type": "stream",
          "name": "stderr",
          "text": [
            "Train: Loss=0.2891 Batch_id=1562 Accuracy=83.70: 100%|██████████| 1563/1563 [00:51<00:00, 30.36it/s]\n"
          ]
        },
        {
          "output_type": "stream",
          "name": "stdout",
          "text": [
            "\n",
            "Test set: Average loss: 0.6507, Accuracy: 7858/10000 (78.58%)\n",
            "\n",
            "EPOCH: 75\n"
          ]
        },
        {
          "output_type": "stream",
          "name": "stderr",
          "text": [
            "Train: Loss=0.8111 Batch_id=1562 Accuracy=83.82: 100%|██████████| 1563/1563 [00:51<00:00, 30.48it/s]\n"
          ]
        },
        {
          "output_type": "stream",
          "name": "stdout",
          "text": [
            "\n",
            "Test set: Average loss: 0.6564, Accuracy: 7897/10000 (78.97%)\n",
            "\n",
            "EPOCH: 76\n"
          ]
        },
        {
          "output_type": "stream",
          "name": "stderr",
          "text": [
            "Train: Loss=0.7266 Batch_id=1562 Accuracy=83.93: 100%|██████████| 1563/1563 [00:51<00:00, 30.44it/s]\n"
          ]
        },
        {
          "output_type": "stream",
          "name": "stdout",
          "text": [
            "\n",
            "Test set: Average loss: 0.6487, Accuracy: 7911/10000 (79.11%)\n",
            "\n",
            "EPOCH: 77\n"
          ]
        },
        {
          "output_type": "stream",
          "name": "stderr",
          "text": [
            "Train: Loss=0.3895 Batch_id=1562 Accuracy=83.91: 100%|██████████| 1563/1563 [00:52<00:00, 29.94it/s]\n"
          ]
        },
        {
          "output_type": "stream",
          "name": "stdout",
          "text": [
            "\n",
            "Test set: Average loss: 0.6188, Accuracy: 7922/10000 (79.22%)\n",
            "\n",
            "EPOCH: 78\n"
          ]
        },
        {
          "output_type": "stream",
          "name": "stderr",
          "text": [
            "Train: Loss=0.5095 Batch_id=1562 Accuracy=84.05: 100%|██████████| 1563/1563 [00:51<00:00, 30.42it/s]\n"
          ]
        },
        {
          "output_type": "stream",
          "name": "stdout",
          "text": [
            "\n",
            "Test set: Average loss: 0.6737, Accuracy: 7794/10000 (77.94%)\n",
            "\n",
            "EPOCH: 79\n"
          ]
        },
        {
          "output_type": "stream",
          "name": "stderr",
          "text": [
            "Train: Loss=0.1503 Batch_id=1562 Accuracy=84.41: 100%|██████████| 1563/1563 [00:51<00:00, 30.13it/s]\n"
          ]
        },
        {
          "output_type": "stream",
          "name": "stdout",
          "text": [
            "\n",
            "Test set: Average loss: 0.6523, Accuracy: 7923/10000 (79.23%)\n",
            "\n",
            "EPOCH: 80\n"
          ]
        },
        {
          "output_type": "stream",
          "name": "stderr",
          "text": [
            "Train: Loss=0.4198 Batch_id=1562 Accuracy=84.21: 100%|██████████| 1563/1563 [00:52<00:00, 30.03it/s]\n"
          ]
        },
        {
          "output_type": "stream",
          "name": "stdout",
          "text": [
            "\n",
            "Test set: Average loss: 0.6546, Accuracy: 7837/10000 (78.37%)\n",
            "\n",
            "EPOCH: 81\n"
          ]
        },
        {
          "output_type": "stream",
          "name": "stderr",
          "text": [
            "Train: Loss=0.7122 Batch_id=1562 Accuracy=84.41: 100%|██████████| 1563/1563 [00:51<00:00, 30.16it/s]\n"
          ]
        },
        {
          "output_type": "stream",
          "name": "stdout",
          "text": [
            "\n",
            "Test set: Average loss: 0.6560, Accuracy: 7830/10000 (78.30%)\n",
            "\n",
            "EPOCH: 82\n"
          ]
        },
        {
          "output_type": "stream",
          "name": "stderr",
          "text": [
            "Train: Loss=0.0964 Batch_id=1562 Accuracy=84.58: 100%|██████████| 1563/1563 [00:51<00:00, 30.35it/s]\n"
          ]
        },
        {
          "output_type": "stream",
          "name": "stdout",
          "text": [
            "\n",
            "Test set: Average loss: 0.6237, Accuracy: 7907/10000 (79.07%)\n",
            "\n",
            "EPOCH: 83\n"
          ]
        },
        {
          "output_type": "stream",
          "name": "stderr",
          "text": [
            "Train: Loss=0.2211 Batch_id=1562 Accuracy=84.61: 100%|██████████| 1563/1563 [00:51<00:00, 30.17it/s]\n"
          ]
        },
        {
          "output_type": "stream",
          "name": "stdout",
          "text": [
            "\n",
            "Test set: Average loss: 0.6358, Accuracy: 7928/10000 (79.28%)\n",
            "\n",
            "EPOCH: 84\n"
          ]
        },
        {
          "output_type": "stream",
          "name": "stderr",
          "text": [
            "Train: Loss=0.9754 Batch_id=1562 Accuracy=84.79: 100%|██████████| 1563/1563 [00:51<00:00, 30.10it/s]\n"
          ]
        },
        {
          "output_type": "stream",
          "name": "stdout",
          "text": [
            "\n",
            "Test set: Average loss: 0.6244, Accuracy: 7932/10000 (79.32%)\n",
            "\n",
            "EPOCH: 85\n"
          ]
        },
        {
          "output_type": "stream",
          "name": "stderr",
          "text": [
            "Train: Loss=0.1843 Batch_id=1562 Accuracy=84.67: 100%|██████████| 1563/1563 [00:51<00:00, 30.14it/s]\n"
          ]
        },
        {
          "output_type": "stream",
          "name": "stdout",
          "text": [
            "\n",
            "Test set: Average loss: 0.6593, Accuracy: 7892/10000 (78.92%)\n",
            "\n",
            "EPOCH: 86\n"
          ]
        },
        {
          "output_type": "stream",
          "name": "stderr",
          "text": [
            "Train: Loss=0.6740 Batch_id=1562 Accuracy=85.31: 100%|██████████| 1563/1563 [00:51<00:00, 30.33it/s]\n"
          ]
        },
        {
          "output_type": "stream",
          "name": "stdout",
          "text": [
            "\n",
            "Test set: Average loss: 0.6343, Accuracy: 7949/10000 (79.49%)\n",
            "\n",
            "EPOCH: 87\n"
          ]
        },
        {
          "output_type": "stream",
          "name": "stderr",
          "text": [
            "Train: Loss=0.7475 Batch_id=1562 Accuracy=85.10: 100%|██████████| 1563/1563 [00:54<00:00, 28.87it/s]\n"
          ]
        },
        {
          "output_type": "stream",
          "name": "stdout",
          "text": [
            "\n",
            "Test set: Average loss: 0.6468, Accuracy: 7923/10000 (79.23%)\n",
            "\n",
            "EPOCH: 88\n"
          ]
        },
        {
          "output_type": "stream",
          "name": "stderr",
          "text": [
            "Train: Loss=0.1888 Batch_id=1562 Accuracy=84.98: 100%|██████████| 1563/1563 [00:52<00:00, 29.80it/s]\n"
          ]
        },
        {
          "output_type": "stream",
          "name": "stdout",
          "text": [
            "\n",
            "Test set: Average loss: 0.6437, Accuracy: 7921/10000 (79.21%)\n",
            "\n",
            "EPOCH: 89\n"
          ]
        },
        {
          "output_type": "stream",
          "name": "stderr",
          "text": [
            "Train: Loss=0.4373 Batch_id=1562 Accuracy=85.03: 100%|██████████| 1563/1563 [00:53<00:00, 29.38it/s]\n"
          ]
        },
        {
          "output_type": "stream",
          "name": "stdout",
          "text": [
            "\n",
            "Test set: Average loss: 0.6334, Accuracy: 7958/10000 (79.58%)\n",
            "\n",
            "EPOCH: 90\n"
          ]
        },
        {
          "output_type": "stream",
          "name": "stderr",
          "text": [
            "Train: Loss=0.2692 Batch_id=1562 Accuracy=85.02: 100%|██████████| 1563/1563 [00:52<00:00, 29.96it/s]\n"
          ]
        },
        {
          "output_type": "stream",
          "name": "stdout",
          "text": [
            "\n",
            "Test set: Average loss: 0.6753, Accuracy: 7903/10000 (79.03%)\n",
            "\n",
            "EPOCH: 91\n"
          ]
        },
        {
          "output_type": "stream",
          "name": "stderr",
          "text": [
            "Train: Loss=0.3568 Batch_id=1562 Accuracy=85.33: 100%|██████████| 1563/1563 [00:52<00:00, 29.88it/s]\n"
          ]
        },
        {
          "output_type": "stream",
          "name": "stdout",
          "text": [
            "\n",
            "Test set: Average loss: 0.6377, Accuracy: 7923/10000 (79.23%)\n",
            "\n",
            "EPOCH: 92\n"
          ]
        },
        {
          "output_type": "stream",
          "name": "stderr",
          "text": [
            "Train: Loss=0.6111 Batch_id=1562 Accuracy=85.22: 100%|██████████| 1563/1563 [00:52<00:00, 29.61it/s]\n"
          ]
        },
        {
          "output_type": "stream",
          "name": "stdout",
          "text": [
            "\n",
            "Test set: Average loss: 0.6480, Accuracy: 7888/10000 (78.88%)\n",
            "\n",
            "EPOCH: 93\n"
          ]
        },
        {
          "output_type": "stream",
          "name": "stderr",
          "text": [
            "Train: Loss=0.6366 Batch_id=1562 Accuracy=85.19: 100%|██████████| 1563/1563 [00:52<00:00, 29.85it/s]\n"
          ]
        },
        {
          "output_type": "stream",
          "name": "stdout",
          "text": [
            "\n",
            "Test set: Average loss: 0.6429, Accuracy: 7946/10000 (79.46%)\n",
            "\n",
            "EPOCH: 94\n"
          ]
        },
        {
          "output_type": "stream",
          "name": "stderr",
          "text": [
            "Train: Loss=0.4361 Batch_id=1562 Accuracy=85.35: 100%|██████████| 1563/1563 [00:52<00:00, 29.57it/s]\n"
          ]
        },
        {
          "output_type": "stream",
          "name": "stdout",
          "text": [
            "\n",
            "Test set: Average loss: 0.6265, Accuracy: 7934/10000 (79.34%)\n",
            "\n",
            "EPOCH: 95\n"
          ]
        },
        {
          "output_type": "stream",
          "name": "stderr",
          "text": [
            "Train: Loss=0.5713 Batch_id=1562 Accuracy=85.60: 100%|██████████| 1563/1563 [00:52<00:00, 29.67it/s]\n"
          ]
        },
        {
          "output_type": "stream",
          "name": "stdout",
          "text": [
            "\n",
            "Test set: Average loss: 0.6712, Accuracy: 7866/10000 (78.66%)\n",
            "\n",
            "EPOCH: 96\n"
          ]
        },
        {
          "output_type": "stream",
          "name": "stderr",
          "text": [
            "Train: Loss=0.1320 Batch_id=1562 Accuracy=85.63: 100%|██████████| 1563/1563 [00:52<00:00, 29.74it/s]\n"
          ]
        },
        {
          "output_type": "stream",
          "name": "stdout",
          "text": [
            "\n",
            "Test set: Average loss: 0.6342, Accuracy: 7974/10000 (79.74%)\n",
            "\n",
            "EPOCH: 97\n"
          ]
        },
        {
          "output_type": "stream",
          "name": "stderr",
          "text": [
            "Train: Loss=0.1581 Batch_id=1562 Accuracy=85.65: 100%|██████████| 1563/1563 [00:52<00:00, 29.84it/s]\n"
          ]
        },
        {
          "output_type": "stream",
          "name": "stdout",
          "text": [
            "\n",
            "Test set: Average loss: 0.6532, Accuracy: 7929/10000 (79.29%)\n",
            "\n",
            "EPOCH: 98\n"
          ]
        },
        {
          "output_type": "stream",
          "name": "stderr",
          "text": [
            "Train: Loss=0.4615 Batch_id=1562 Accuracy=85.85: 100%|██████████| 1563/1563 [00:53<00:00, 29.20it/s]\n"
          ]
        },
        {
          "output_type": "stream",
          "name": "stdout",
          "text": [
            "\n",
            "Test set: Average loss: 0.6848, Accuracy: 7837/10000 (78.37%)\n",
            "\n",
            "EPOCH: 99\n"
          ]
        },
        {
          "output_type": "stream",
          "name": "stderr",
          "text": [
            "Train: Loss=0.1116 Batch_id=1562 Accuracy=85.82: 100%|██████████| 1563/1563 [00:51<00:00, 30.15it/s]\n"
          ]
        },
        {
          "output_type": "stream",
          "name": "stdout",
          "text": [
            "\n",
            "Test set: Average loss: 0.6082, Accuracy: 8022/10000 (80.22%)\n",
            "\n",
            "EPOCH: 100\n"
          ]
        },
        {
          "output_type": "stream",
          "name": "stderr",
          "text": [
            "Train: Loss=0.8380 Batch_id=1562 Accuracy=85.90: 100%|██████████| 1563/1563 [00:51<00:00, 30.39it/s]\n"
          ]
        },
        {
          "output_type": "stream",
          "name": "stdout",
          "text": [
            "\n",
            "Test set: Average loss: 0.6270, Accuracy: 8025/10000 (80.25%)\n",
            "\n",
            "EPOCH: 101\n"
          ]
        },
        {
          "output_type": "stream",
          "name": "stderr",
          "text": [
            "Train: Loss=1.0993 Batch_id=1562 Accuracy=86.38: 100%|██████████| 1563/1563 [00:51<00:00, 30.14it/s]\n"
          ]
        },
        {
          "output_type": "stream",
          "name": "stdout",
          "text": [
            "\n",
            "Test set: Average loss: 0.6571, Accuracy: 7888/10000 (78.88%)\n",
            "\n",
            "EPOCH: 102\n"
          ]
        },
        {
          "output_type": "stream",
          "name": "stderr",
          "text": [
            "Train: Loss=0.6629 Batch_id=1562 Accuracy=86.23: 100%|██████████| 1563/1563 [00:51<00:00, 30.31it/s]\n"
          ]
        },
        {
          "output_type": "stream",
          "name": "stdout",
          "text": [
            "\n",
            "Test set: Average loss: 0.6415, Accuracy: 7896/10000 (78.96%)\n",
            "\n",
            "EPOCH: 103\n"
          ]
        },
        {
          "output_type": "stream",
          "name": "stderr",
          "text": [
            "Train: Loss=0.1416 Batch_id=1562 Accuracy=86.19: 100%|██████████| 1563/1563 [00:51<00:00, 30.27it/s]\n"
          ]
        },
        {
          "output_type": "stream",
          "name": "stdout",
          "text": [
            "\n",
            "Test set: Average loss: 0.6503, Accuracy: 7934/10000 (79.34%)\n",
            "\n",
            "EPOCH: 104\n"
          ]
        },
        {
          "output_type": "stream",
          "name": "stderr",
          "text": [
            "Train: Loss=0.0960 Batch_id=1562 Accuracy=86.06: 100%|██████████| 1563/1563 [00:51<00:00, 30.36it/s]\n"
          ]
        },
        {
          "output_type": "stream",
          "name": "stdout",
          "text": [
            "\n",
            "Test set: Average loss: 0.6168, Accuracy: 7977/10000 (79.77%)\n",
            "\n",
            "EPOCH: 105\n"
          ]
        },
        {
          "output_type": "stream",
          "name": "stderr",
          "text": [
            "Train: Loss=0.5045 Batch_id=1562 Accuracy=86.33: 100%|██████████| 1563/1563 [00:52<00:00, 29.77it/s]\n"
          ]
        },
        {
          "output_type": "stream",
          "name": "stdout",
          "text": [
            "\n",
            "Test set: Average loss: 0.6487, Accuracy: 7898/10000 (78.98%)\n",
            "\n",
            "EPOCH: 106\n"
          ]
        },
        {
          "output_type": "stream",
          "name": "stderr",
          "text": [
            "Train: Loss=0.3470 Batch_id=1562 Accuracy=86.26: 100%|██████████| 1563/1563 [00:51<00:00, 30.13it/s]\n"
          ]
        },
        {
          "output_type": "stream",
          "name": "stdout",
          "text": [
            "\n",
            "Test set: Average loss: 0.6689, Accuracy: 7949/10000 (79.49%)\n",
            "\n",
            "EPOCH: 107\n"
          ]
        },
        {
          "output_type": "stream",
          "name": "stderr",
          "text": [
            "Train: Loss=0.4670 Batch_id=1562 Accuracy=86.40: 100%|██████████| 1563/1563 [00:51<00:00, 30.37it/s]\n"
          ]
        },
        {
          "output_type": "stream",
          "name": "stdout",
          "text": [
            "\n",
            "Test set: Average loss: 0.6510, Accuracy: 7967/10000 (79.67%)\n",
            "\n",
            "EPOCH: 108\n"
          ]
        },
        {
          "output_type": "stream",
          "name": "stderr",
          "text": [
            "Train: Loss=0.4871 Batch_id=1562 Accuracy=86.55: 100%|██████████| 1563/1563 [00:51<00:00, 30.13it/s]\n"
          ]
        },
        {
          "output_type": "stream",
          "name": "stdout",
          "text": [
            "\n",
            "Test set: Average loss: 0.6616, Accuracy: 7903/10000 (79.03%)\n",
            "\n",
            "EPOCH: 109\n"
          ]
        },
        {
          "output_type": "stream",
          "name": "stderr",
          "text": [
            "Train: Loss=0.4258 Batch_id=1562 Accuracy=86.53: 100%|██████████| 1563/1563 [00:52<00:00, 29.89it/s]\n"
          ]
        },
        {
          "output_type": "stream",
          "name": "stdout",
          "text": [
            "\n",
            "Test set: Average loss: 0.6718, Accuracy: 7872/10000 (78.72%)\n",
            "\n",
            "EPOCH: 110\n"
          ]
        },
        {
          "output_type": "stream",
          "name": "stderr",
          "text": [
            "Train: Loss=0.2383 Batch_id=1562 Accuracy=86.65: 100%|██████████| 1563/1563 [00:51<00:00, 30.29it/s]\n"
          ]
        },
        {
          "output_type": "stream",
          "name": "stdout",
          "text": [
            "\n",
            "Test set: Average loss: 0.6393, Accuracy: 7937/10000 (79.37%)\n",
            "\n",
            "EPOCH: 111\n"
          ]
        },
        {
          "output_type": "stream",
          "name": "stderr",
          "text": [
            "Train: Loss=0.2728 Batch_id=1562 Accuracy=86.59: 100%|██████████| 1563/1563 [00:51<00:00, 30.31it/s]\n"
          ]
        },
        {
          "output_type": "stream",
          "name": "stdout",
          "text": [
            "\n",
            "Test set: Average loss: 0.7043, Accuracy: 7862/10000 (78.62%)\n",
            "\n",
            "EPOCH: 112\n"
          ]
        },
        {
          "output_type": "stream",
          "name": "stderr",
          "text": [
            "Train: Loss=0.7062 Batch_id=1562 Accuracy=86.64: 100%|██████████| 1563/1563 [00:52<00:00, 29.86it/s]\n"
          ]
        },
        {
          "output_type": "stream",
          "name": "stdout",
          "text": [
            "\n",
            "Test set: Average loss: 0.6359, Accuracy: 8017/10000 (80.17%)\n",
            "\n",
            "EPOCH: 113\n"
          ]
        },
        {
          "output_type": "stream",
          "name": "stderr",
          "text": [
            "Train: Loss=0.3637 Batch_id=1562 Accuracy=86.58: 100%|██████████| 1563/1563 [00:51<00:00, 30.32it/s]\n"
          ]
        },
        {
          "output_type": "stream",
          "name": "stdout",
          "text": [
            "\n",
            "Test set: Average loss: 0.6528, Accuracy: 7946/10000 (79.46%)\n",
            "\n",
            "EPOCH: 114\n"
          ]
        },
        {
          "output_type": "stream",
          "name": "stderr",
          "text": [
            "Train: Loss=0.5467 Batch_id=1562 Accuracy=86.77: 100%|██████████| 1563/1563 [00:51<00:00, 30.08it/s]\n"
          ]
        },
        {
          "output_type": "stream",
          "name": "stdout",
          "text": [
            "\n",
            "Test set: Average loss: 0.6737, Accuracy: 7868/10000 (78.68%)\n",
            "\n",
            "EPOCH: 115\n"
          ]
        },
        {
          "output_type": "stream",
          "name": "stderr",
          "text": [
            "Train: Loss=0.7119 Batch_id=1562 Accuracy=86.73: 100%|██████████| 1563/1563 [00:51<00:00, 30.19it/s]\n"
          ]
        },
        {
          "output_type": "stream",
          "name": "stdout",
          "text": [
            "\n",
            "Test set: Average loss: 0.7048, Accuracy: 7910/10000 (79.10%)\n",
            "\n",
            "EPOCH: 116\n"
          ]
        },
        {
          "output_type": "stream",
          "name": "stderr",
          "text": [
            "Train: Loss=0.4529 Batch_id=1562 Accuracy=87.01: 100%|██████████| 1563/1563 [00:52<00:00, 30.03it/s]\n"
          ]
        },
        {
          "output_type": "stream",
          "name": "stdout",
          "text": [
            "\n",
            "Test set: Average loss: 0.6501, Accuracy: 7990/10000 (79.90%)\n",
            "\n",
            "EPOCH: 117\n"
          ]
        },
        {
          "output_type": "stream",
          "name": "stderr",
          "text": [
            "Train: Loss=0.1441 Batch_id=1562 Accuracy=86.96: 100%|██████████| 1563/1563 [00:51<00:00, 30.29it/s]\n"
          ]
        },
        {
          "output_type": "stream",
          "name": "stdout",
          "text": [
            "\n",
            "Test set: Average loss: 0.6381, Accuracy: 8012/10000 (80.12%)\n",
            "\n",
            "EPOCH: 118\n"
          ]
        },
        {
          "output_type": "stream",
          "name": "stderr",
          "text": [
            "Train: Loss=0.9121 Batch_id=1562 Accuracy=87.24: 100%|██████████| 1563/1563 [00:51<00:00, 30.19it/s]\n"
          ]
        },
        {
          "output_type": "stream",
          "name": "stdout",
          "text": [
            "\n",
            "Test set: Average loss: 0.6455, Accuracy: 7963/10000 (79.63%)\n",
            "\n",
            "EPOCH: 119\n"
          ]
        },
        {
          "output_type": "stream",
          "name": "stderr",
          "text": [
            "Train: Loss=0.2158 Batch_id=1562 Accuracy=86.83: 100%|██████████| 1563/1563 [00:51<00:00, 30.22it/s]\n"
          ]
        },
        {
          "output_type": "stream",
          "name": "stdout",
          "text": [
            "\n",
            "Test set: Average loss: 0.6452, Accuracy: 7978/10000 (79.78%)\n",
            "\n",
            "EPOCH: 120\n"
          ]
        },
        {
          "output_type": "stream",
          "name": "stderr",
          "text": [
            "Train: Loss=0.4091 Batch_id=1562 Accuracy=87.19: 100%|██████████| 1563/1563 [00:52<00:00, 29.91it/s]\n"
          ]
        },
        {
          "output_type": "stream",
          "name": "stdout",
          "text": [
            "\n",
            "Test set: Average loss: 0.6585, Accuracy: 7947/10000 (79.47%)\n",
            "\n",
            "EPOCH: 121\n"
          ]
        },
        {
          "output_type": "stream",
          "name": "stderr",
          "text": [
            "Train: Loss=0.3479 Batch_id=1562 Accuracy=87.14: 100%|██████████| 1563/1563 [00:51<00:00, 30.16it/s]\n"
          ]
        },
        {
          "output_type": "stream",
          "name": "stdout",
          "text": [
            "\n",
            "Test set: Average loss: 0.6592, Accuracy: 7948/10000 (79.48%)\n",
            "\n",
            "EPOCH: 122\n"
          ]
        },
        {
          "output_type": "stream",
          "name": "stderr",
          "text": [
            "Train: Loss=0.4819 Batch_id=1562 Accuracy=87.23: 100%|██████████| 1563/1563 [00:52<00:00, 30.00it/s]\n"
          ]
        },
        {
          "output_type": "stream",
          "name": "stdout",
          "text": [
            "\n",
            "Test set: Average loss: 0.6786, Accuracy: 7936/10000 (79.36%)\n",
            "\n",
            "EPOCH: 123\n"
          ]
        },
        {
          "output_type": "stream",
          "name": "stderr",
          "text": [
            "Train: Loss=0.3060 Batch_id=1562 Accuracy=87.56: 100%|██████████| 1563/1563 [00:52<00:00, 30.00it/s]\n"
          ]
        },
        {
          "output_type": "stream",
          "name": "stdout",
          "text": [
            "\n",
            "Test set: Average loss: 0.6411, Accuracy: 8004/10000 (80.04%)\n",
            "\n",
            "EPOCH: 124\n"
          ]
        },
        {
          "output_type": "stream",
          "name": "stderr",
          "text": [
            "Train: Loss=1.5837 Batch_id=1562 Accuracy=87.36: 100%|██████████| 1563/1563 [00:51<00:00, 30.27it/s]\n"
          ]
        },
        {
          "output_type": "stream",
          "name": "stdout",
          "text": [
            "\n",
            "Test set: Average loss: 0.6595, Accuracy: 7937/10000 (79.37%)\n",
            "\n",
            "EPOCH: 125\n"
          ]
        },
        {
          "output_type": "stream",
          "name": "stderr",
          "text": [
            "Train: Loss=0.2717 Batch_id=1562 Accuracy=87.68: 100%|██████████| 1563/1563 [00:51<00:00, 30.18it/s]\n"
          ]
        },
        {
          "output_type": "stream",
          "name": "stdout",
          "text": [
            "\n",
            "Test set: Average loss: 0.6505, Accuracy: 8014/10000 (80.14%)\n",
            "\n",
            "EPOCH: 126\n"
          ]
        },
        {
          "output_type": "stream",
          "name": "stderr",
          "text": [
            "Train: Loss=0.4383 Batch_id=1562 Accuracy=87.67: 100%|██████████| 1563/1563 [00:51<00:00, 30.17it/s]\n"
          ]
        },
        {
          "output_type": "stream",
          "name": "stdout",
          "text": [
            "\n",
            "Test set: Average loss: 0.6495, Accuracy: 8026/10000 (80.26%)\n",
            "\n",
            "EPOCH: 127\n"
          ]
        },
        {
          "output_type": "stream",
          "name": "stderr",
          "text": [
            "Train: Loss=0.4978 Batch_id=1562 Accuracy=87.61: 100%|██████████| 1563/1563 [00:52<00:00, 29.69it/s]\n"
          ]
        },
        {
          "output_type": "stream",
          "name": "stdout",
          "text": [
            "\n",
            "Test set: Average loss: 0.6622, Accuracy: 7982/10000 (79.82%)\n",
            "\n",
            "EPOCH: 128\n"
          ]
        },
        {
          "output_type": "stream",
          "name": "stderr",
          "text": [
            "Train: Loss=0.6258 Batch_id=1562 Accuracy=87.68: 100%|██████████| 1563/1563 [00:51<00:00, 30.18it/s]\n"
          ]
        },
        {
          "output_type": "stream",
          "name": "stdout",
          "text": [
            "\n",
            "Test set: Average loss: 0.6694, Accuracy: 8012/10000 (80.12%)\n",
            "\n",
            "EPOCH: 129\n"
          ]
        },
        {
          "output_type": "stream",
          "name": "stderr",
          "text": [
            "Train: Loss=0.5664 Batch_id=1562 Accuracy=87.70: 100%|██████████| 1563/1563 [00:51<00:00, 30.31it/s]\n"
          ]
        },
        {
          "output_type": "stream",
          "name": "stdout",
          "text": [
            "\n",
            "Test set: Average loss: 0.6373, Accuracy: 8058/10000 (80.58%)\n",
            "\n",
            "EPOCH: 130\n"
          ]
        },
        {
          "output_type": "stream",
          "name": "stderr",
          "text": [
            "Train: Loss=0.2584 Batch_id=1562 Accuracy=87.83: 100%|██████████| 1563/1563 [00:51<00:00, 30.09it/s]\n"
          ]
        },
        {
          "output_type": "stream",
          "name": "stdout",
          "text": [
            "\n",
            "Test set: Average loss: 0.6384, Accuracy: 8012/10000 (80.12%)\n",
            "\n",
            "EPOCH: 131\n"
          ]
        },
        {
          "output_type": "stream",
          "name": "stderr",
          "text": [
            "Train: Loss=0.2058 Batch_id=1562 Accuracy=87.82: 100%|██████████| 1563/1563 [00:52<00:00, 29.83it/s]\n"
          ]
        },
        {
          "output_type": "stream",
          "name": "stdout",
          "text": [
            "\n",
            "Test set: Average loss: 0.6762, Accuracy: 7919/10000 (79.19%)\n",
            "\n",
            "EPOCH: 132\n"
          ]
        },
        {
          "output_type": "stream",
          "name": "stderr",
          "text": [
            "Train: Loss=0.6032 Batch_id=1562 Accuracy=87.63: 100%|██████████| 1563/1563 [00:51<00:00, 30.20it/s]\n"
          ]
        },
        {
          "output_type": "stream",
          "name": "stdout",
          "text": [
            "\n",
            "Test set: Average loss: 0.6812, Accuracy: 7917/10000 (79.17%)\n",
            "\n",
            "EPOCH: 133\n"
          ]
        },
        {
          "output_type": "stream",
          "name": "stderr",
          "text": [
            "Train: Loss=0.3516 Batch_id=1562 Accuracy=87.97: 100%|██████████| 1563/1563 [00:51<00:00, 30.15it/s]\n"
          ]
        },
        {
          "output_type": "stream",
          "name": "stdout",
          "text": [
            "\n",
            "Test set: Average loss: 0.6305, Accuracy: 8020/10000 (80.20%)\n",
            "\n",
            "EPOCH: 134\n"
          ]
        },
        {
          "output_type": "stream",
          "name": "stderr",
          "text": [
            "Train: Loss=0.2391 Batch_id=1562 Accuracy=87.71: 100%|██████████| 1563/1563 [00:52<00:00, 29.56it/s]\n"
          ]
        },
        {
          "output_type": "stream",
          "name": "stdout",
          "text": [
            "\n",
            "Test set: Average loss: 0.6421, Accuracy: 8043/10000 (80.43%)\n",
            "\n",
            "EPOCH: 135\n"
          ]
        },
        {
          "output_type": "stream",
          "name": "stderr",
          "text": [
            "Train: Loss=0.1401 Batch_id=1562 Accuracy=88.09: 100%|██████████| 1563/1563 [00:51<00:00, 30.16it/s]\n"
          ]
        },
        {
          "output_type": "stream",
          "name": "stdout",
          "text": [
            "\n",
            "Test set: Average loss: 0.6725, Accuracy: 8004/10000 (80.04%)\n",
            "\n",
            "EPOCH: 136\n"
          ]
        },
        {
          "output_type": "stream",
          "name": "stderr",
          "text": [
            "Train: Loss=0.3163 Batch_id=1562 Accuracy=88.08: 100%|██████████| 1563/1563 [00:51<00:00, 30.15it/s]\n"
          ]
        },
        {
          "output_type": "stream",
          "name": "stdout",
          "text": [
            "\n",
            "Test set: Average loss: 0.6448, Accuracy: 8079/10000 (80.79%)\n",
            "\n",
            "EPOCH: 137\n"
          ]
        },
        {
          "output_type": "stream",
          "name": "stderr",
          "text": [
            "Train: Loss=0.2372 Batch_id=1562 Accuracy=87.97: 100%|██████████| 1563/1563 [00:52<00:00, 29.79it/s]\n"
          ]
        },
        {
          "output_type": "stream",
          "name": "stdout",
          "text": [
            "\n",
            "Test set: Average loss: 0.6643, Accuracy: 8008/10000 (80.08%)\n",
            "\n",
            "EPOCH: 138\n"
          ]
        },
        {
          "output_type": "stream",
          "name": "stderr",
          "text": [
            "Train: Loss=0.7290 Batch_id=1562 Accuracy=87.92: 100%|██████████| 1563/1563 [00:52<00:00, 29.82it/s]\n"
          ]
        },
        {
          "output_type": "stream",
          "name": "stdout",
          "text": [
            "\n",
            "Test set: Average loss: 0.6735, Accuracy: 8015/10000 (80.15%)\n",
            "\n",
            "EPOCH: 139\n"
          ]
        },
        {
          "output_type": "stream",
          "name": "stderr",
          "text": [
            "Train: Loss=0.3290 Batch_id=1562 Accuracy=88.17: 100%|██████████| 1563/1563 [00:52<00:00, 29.89it/s]\n"
          ]
        },
        {
          "output_type": "stream",
          "name": "stdout",
          "text": [
            "\n",
            "Test set: Average loss: 0.6506, Accuracy: 8005/10000 (80.05%)\n",
            "\n",
            "EPOCH: 140\n"
          ]
        },
        {
          "output_type": "stream",
          "name": "stderr",
          "text": [
            "Train: Loss=0.2611 Batch_id=1562 Accuracy=87.99: 100%|██████████| 1563/1563 [00:52<00:00, 29.93it/s]\n"
          ]
        },
        {
          "output_type": "stream",
          "name": "stdout",
          "text": [
            "\n",
            "Test set: Average loss: 0.6350, Accuracy: 8018/10000 (80.18%)\n",
            "\n",
            "EPOCH: 141\n"
          ]
        },
        {
          "output_type": "stream",
          "name": "stderr",
          "text": [
            "Train: Loss=0.4366 Batch_id=1562 Accuracy=88.30: 100%|██████████| 1563/1563 [00:52<00:00, 29.86it/s]\n"
          ]
        },
        {
          "output_type": "stream",
          "name": "stdout",
          "text": [
            "\n",
            "Test set: Average loss: 0.6384, Accuracy: 8056/10000 (80.56%)\n",
            "\n",
            "EPOCH: 142\n"
          ]
        },
        {
          "output_type": "stream",
          "name": "stderr",
          "text": [
            "Train: Loss=0.1718 Batch_id=1562 Accuracy=88.22: 100%|██████████| 1563/1563 [00:52<00:00, 29.89it/s]\n"
          ]
        },
        {
          "output_type": "stream",
          "name": "stdout",
          "text": [
            "\n",
            "Test set: Average loss: 0.6505, Accuracy: 7998/10000 (79.98%)\n",
            "\n",
            "EPOCH: 143\n"
          ]
        },
        {
          "output_type": "stream",
          "name": "stderr",
          "text": [
            "Train: Loss=0.1557 Batch_id=1562 Accuracy=88.52: 100%|██████████| 1563/1563 [00:52<00:00, 29.90it/s]\n"
          ]
        },
        {
          "output_type": "stream",
          "name": "stdout",
          "text": [
            "\n",
            "Test set: Average loss: 0.6606, Accuracy: 7994/10000 (79.94%)\n",
            "\n",
            "EPOCH: 144\n"
          ]
        },
        {
          "output_type": "stream",
          "name": "stderr",
          "text": [
            "Train: Loss=0.4250 Batch_id=1562 Accuracy=88.44: 100%|██████████| 1563/1563 [00:52<00:00, 29.72it/s]\n"
          ]
        },
        {
          "output_type": "stream",
          "name": "stdout",
          "text": [
            "\n",
            "Test set: Average loss: 0.6176, Accuracy: 8080/10000 (80.80%)\n",
            "\n",
            "EPOCH: 145\n"
          ]
        },
        {
          "output_type": "stream",
          "name": "stderr",
          "text": [
            "Train: Loss=0.4445 Batch_id=1562 Accuracy=88.42: 100%|██████████| 1563/1563 [00:52<00:00, 29.53it/s]\n"
          ]
        },
        {
          "output_type": "stream",
          "name": "stdout",
          "text": [
            "\n",
            "Test set: Average loss: 0.6460, Accuracy: 8084/10000 (80.84%)\n",
            "\n",
            "EPOCH: 146\n"
          ]
        },
        {
          "output_type": "stream",
          "name": "stderr",
          "text": [
            "Train: Loss=0.2644 Batch_id=1562 Accuracy=88.22: 100%|██████████| 1563/1563 [00:52<00:00, 29.60it/s]\n"
          ]
        },
        {
          "output_type": "stream",
          "name": "stdout",
          "text": [
            "\n",
            "Test set: Average loss: 0.6586, Accuracy: 8038/10000 (80.38%)\n",
            "\n",
            "EPOCH: 147\n"
          ]
        },
        {
          "output_type": "stream",
          "name": "stderr",
          "text": [
            "Train: Loss=0.6155 Batch_id=1562 Accuracy=88.58: 100%|██████████| 1563/1563 [00:52<00:00, 29.59it/s]\n"
          ]
        },
        {
          "output_type": "stream",
          "name": "stdout",
          "text": [
            "\n",
            "Test set: Average loss: 0.6806, Accuracy: 7993/10000 (79.93%)\n",
            "\n",
            "EPOCH: 148\n"
          ]
        },
        {
          "output_type": "stream",
          "name": "stderr",
          "text": [
            "Train: Loss=0.5710 Batch_id=1562 Accuracy=88.65: 100%|██████████| 1563/1563 [00:52<00:00, 30.04it/s]\n"
          ]
        },
        {
          "output_type": "stream",
          "name": "stdout",
          "text": [
            "\n",
            "Test set: Average loss: 0.6733, Accuracy: 7995/10000 (79.95%)\n",
            "\n",
            "EPOCH: 149\n"
          ]
        },
        {
          "output_type": "stream",
          "name": "stderr",
          "text": [
            "Train: Loss=0.2736 Batch_id=1562 Accuracy=88.65: 100%|██████████| 1563/1563 [00:52<00:00, 29.56it/s]\n"
          ]
        },
        {
          "output_type": "stream",
          "name": "stdout",
          "text": [
            "\n",
            "Test set: Average loss: 0.6511, Accuracy: 7993/10000 (79.93%)\n",
            "\n",
            "EPOCH: 150\n"
          ]
        },
        {
          "output_type": "stream",
          "name": "stderr",
          "text": [
            "Train: Loss=0.0980 Batch_id=1562 Accuracy=88.90: 100%|██████████| 1563/1563 [00:52<00:00, 30.01it/s]\n"
          ]
        },
        {
          "output_type": "stream",
          "name": "stdout",
          "text": [
            "\n",
            "Test set: Average loss: 0.6309, Accuracy: 7992/10000 (79.92%)\n",
            "\n"
          ]
        }
      ],
      "source": [
        "train_losses = []\n",
        "test_losses = []\n",
        "train_acc = []\n",
        "test_acc = []\n",
        "\n",
        "model =  Net().to(device)\n",
        "optimizer = optim.SGD(model.parameters(), lr=0.01, momentum=0.9)\n",
        "\n",
        "EPOCHS = 150\n",
        "for epoch in range(EPOCHS):\n",
        "    print(\"EPOCH:\", epoch+1)\n",
        "    train(model, device, train_loader, optimizer, epoch)\n",
        "\n",
        "    test(model, device, test_loader)\n",
        "\n"
      ]
    },
    {
      "cell_type": "markdown",
      "source": [],
      "metadata": {
        "id": "ScLuTyDyZ7nD"
      }
    },
    {
      "cell_type": "code",
      "execution_count": null,
      "metadata": {
        "id": "87RaqGSEOWDe",
        "colab": {
          "base_uri": "https://localhost:8080/",
          "height": 783
        },
        "outputId": "f0308952-a57f-43f6-9c91-0ed86c7e1c97"
      },
      "outputs": [
        {
          "output_type": "display_data",
          "data": {
            "text/plain": [
              "<Figure size 1500x1000 with 4 Axes>"
            ],
            "image/png": "[encoded data removed]"
          },
          "metadata": {}
        }
      ],
      "source": [
        "#!pip install utils\n",
        "# Display the loss and accuracy in tranining and Test Data.\n",
        "import utils\n",
        "from utils import display_plot\n",
        "\n",
        "display_plot(train_losses,train_acc,test_losses,test_acc)\n"
      ]
    },
    {
      "cell_type": "code",
      "source": [
        "from utils import convert_to_imshow_format"
      ],
      "metadata": {
        "id": "_V3bKBpnu9AE"
      },
      "execution_count": null,
      "outputs": []
    },
    {
      "cell_type": "code",
      "source": [
        "# Shows the images in first batch of the test_loader 128 images, in 1*128 format with label\n",
        "dataiter = iter(test_loader)\n",
        "images, labels = next(dataiter)\n",
        "\n",
        "#print(len(images))\n",
        "\n",
        "\n",
        "#model = Net().to(device)\n",
        "model = Net()\n",
        "model.eval()\n",
        "\n",
        "incorrect_pred = []\n",
        "\n",
        "for idx,p in enumerate(predicted):\n",
        "  #print(\"index --- \",idx)\n",
        "  #print(\"predicted ---\",classes[p])\n",
        "  #print(\"Target ---\",classes[labels[idx]])\n",
        "  #print(\"Compare\", classes[p] != classes[labels[idx]])\n",
        "  if classes[p] != classes[labels[idx]]:\n",
        "\n",
        "  #if p != labels[idx]:\n",
        "    incorrect_pred.append(idx)\n",
        "  #print(incorrect_pred)\n",
        "\n",
        "index = 0\n",
        "# show only the first 10 images in 2,5 format\n",
        "fig, axes = plt.subplots(2, 5, figsize=(12,5))\n",
        "plt.subplots_adjust(bottom=2.3, top=2.7, hspace=1)\n",
        "#for idx, image in enumerate(images):\n",
        "for p in range(0,2):\n",
        "  for q in range(0,5):\n",
        "    #print(idx)\n",
        "\n",
        "    if index >= 10:\n",
        "      break\n",
        "    index=index+1\n",
        "    #print(image.type)\n",
        "    axes[p,q].imshow(convert_to_imshow_format(images[incorrect_pred[index]]))\n",
        "    axes[p,q].set_title('Target - ' + classes[labels[incorrect_pred[index]]]+'\\n'+'Predicted - '+ classes[predicted[incorrect_pred[index]]],fontsize = 8)\n",
        "    axes[p,q].set_xticks([])\n",
        "    axes[p,q].set_yticks([])\n"
      ],
      "metadata": {
        "id": "11TzI1fLwxFx",
        "colab": {
          "base_uri": "https://localhost:8080/",
          "height": 264
        },
        "outputId": "6d19d7d0-b95b-4172-fa55-0b043216df97"
      },
      "execution_count": null,
      "outputs": [
        {
          "output_type": "display_data",
          "data": {
            "text/plain": [
              "<Figure size 1200x500 with 10 Axes>"
            ],
            "image/png": "[encoded data removed]"
          },
          "metadata": {}
        }
      ]
    },
    {
      "cell_type": "markdown",
      "source": [
        "## Model 3\n",
        "\n",
        "Results:\n",
        "\n",
        "*   Parameters: Total params: 35,060\n",
        "*   Train: (68.34)%\n",
        "*   Test set: (73.20%)\n",
        "*   EPOCH : 20\n",
        "\n",
        "\n",
        "*   Analysis:\n",
        "1. Model is underfitting.\n",
        "2. The accuracy has reached the 73.20% with the Batch Normalization.\n"
      ],
      "metadata": {
        "id": "lI02Gp6CFfNC"
      }
    }
  ],
  "metadata": {
    "colab": {
      "provenance": [],
      "gpuType": "T4"
    },
    "kernelspec": {
      "display_name": "Python 3",
      "name": "python3"
    },
    "accelerator": "GPU"
  },
  "nbformat": 4,
  "nbformat_minor": 0
}